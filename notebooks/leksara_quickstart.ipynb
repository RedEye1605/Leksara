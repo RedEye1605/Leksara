{
 "cells": [
  {
   "cell_type": "markdown",
   "id": "1282ac8f",
   "metadata": {},
   "source": [
    "# Notebook: Uji Cepat Leksara\n",
    "Notebook ini menguji library `leksara` end-to-end: cek lingkungan, instal, import, uji fungsi/kualitas output, pipeline kustom, I/O, benchmark, hingga pembersihan."
   ]
  },
  {
   "cell_type": "code",
   "execution_count": 1,
   "id": "54c9e252",
   "metadata": {},
   "outputs": [
    {
     "data": {
      "application/vnd.microsoft.datawrangler.viewer.v0+json": {
       "columns": [
        {
         "name": "index",
         "rawType": "int64",
         "type": "integer"
        },
        {
         "name": "chat_id",
         "rawType": "int64",
         "type": "integer"
        },
        {
         "name": "safe_message",
         "rawType": "object",
         "type": "string"
        }
       ],
       "ref": "f0ab45ee-fa6b-4c82-bd97-60ce0d966a1b",
       "rows": [
        [
         "0",
         "1",
         "halo nomor saya [PHONE_NUMBER] email [EMAIL] alamat jakarta"
        ],
        [
         "1",
         "2",
         "hubungi [PHONE_NUMBER] ya email saya [EMAIL] alamat saya di bandung"
        ]
       ],
       "shape": {
        "columns": 2,
        "rows": 2
       }
      },
      "text/html": [
       "<div>\n",
       "<style scoped>\n",
       "    .dataframe tbody tr th:only-of-type {\n",
       "        vertical-align: middle;\n",
       "    }\n",
       "\n",
       "    .dataframe tbody tr th {\n",
       "        vertical-align: top;\n",
       "    }\n",
       "\n",
       "    .dataframe thead th {\n",
       "        text-align: right;\n",
       "    }\n",
       "</style>\n",
       "<table border=\"1\" class=\"dataframe\">\n",
       "  <thead>\n",
       "    <tr style=\"text-align: right;\">\n",
       "      <th></th>\n",
       "      <th>chat_id</th>\n",
       "      <th>safe_message</th>\n",
       "    </tr>\n",
       "  </thead>\n",
       "  <tbody>\n",
       "    <tr>\n",
       "      <th>0</th>\n",
       "      <td>1</td>\n",
       "      <td>halo nomor saya [PHONE_NUMBER] email [EMAIL] a...</td>\n",
       "    </tr>\n",
       "    <tr>\n",
       "      <th>1</th>\n",
       "      <td>2</td>\n",
       "      <td>hubungi [PHONE_NUMBER] ya email saya [EMAIL] a...</td>\n",
       "    </tr>\n",
       "  </tbody>\n",
       "</table>\n",
       "</div>"
      ],
      "text/plain": [
       "   chat_id                                       safe_message\n",
       "0        1  halo nomor saya [PHONE_NUMBER] email [EMAIL] a...\n",
       "1        2  hubungi [PHONE_NUMBER] ya email saya [EMAIL] a..."
      ]
     },
     "execution_count": 1,
     "metadata": {},
     "output_type": "execute_result"
    }
   ],
   "source": [
    "from leksara import leksara\n",
    "from leksara import case_normal, remove_punctuation, remove_whitespace\n",
    "from leksara import replace_phone, replace_email, replace_address, replace_id\n",
    "import pandas as pd\n",
    "\n",
    "# Membuat DataFrame contoh\n",
    "df = pd.DataFrame({\n",
    "    \"chat_id\": [1, 2],\n",
    "    \"chat_message\": [\n",
    "        \"Halo! Nomor saya 0812-3456-7890. Email: x@y.com, Alamat: Jakarta\",\n",
    "        \"Hubungi +6281234567890 ya — EMAIL saya: test@mail.co.id! Alamat saya di Bandung\"\n",
    "    ]\n",
    "})\n",
    "\n",
    "# Menyusun custom pipeline dengan PII cleaning\n",
    "custom_pipeline = {\n",
    "    \"patterns\": [\n",
    "        (replace_phone, {\"mode\": \"replace\"}), \n",
    "        (replace_email, {\"mode\": \"replace\"}),  \n",
    "        (replace_address, {\"mode\": \"replace\"}),  \n",
    "        (replace_id, {\"mode\": \"replace\"})  \n",
    "    ],\n",
    "    \"functions\": [\n",
    "        case_normal, \n",
    "        remove_punctuation,  \n",
    "        remove_whitespace \n",
    "    ]\n",
    "}\n",
    "\n",
    "# Menggunakan pipeline pada kolom chat_message\n",
    "df[\"safe_message\"] = leksara(df[\"chat_message\"], pipeline=custom_pipeline)\n",
    "\n",
    "# Menampilkan hasilnya\n",
    "df[[\"chat_id\", \"safe_message\"]]"
   ]
  },
  {
   "cell_type": "code",
   "execution_count": 2,
   "id": "0023f846",
   "metadata": {},
   "outputs": [
    {
     "data": {
      "application/vnd.microsoft.datawrangler.viewer.v0+json": {
       "columns": [
        {
         "name": "index",
         "rawType": "int64",
         "type": "integer"
        },
        {
         "name": "chat_id",
         "rawType": "int64",
         "type": "integer"
        },
        {
         "name": "safe_message",
         "rawType": "object",
         "type": "string"
        }
       ],
       "ref": "098a5bd7-21f3-48ab-a155-42a4da86bff9",
       "rows": [
        [
         "0",
         "1",
         "halo nomor saya 081234567890 email xycom alamat jakarta"
        ],
        [
         "1",
         "2",
         "hubungi 6281234567890 ya email saya testmailcoid alamat saya di bandung"
        ]
       ],
       "shape": {
        "columns": 2,
        "rows": 2
       }
      },
      "text/html": [
       "<div>\n",
       "<style scoped>\n",
       "    .dataframe tbody tr th:only-of-type {\n",
       "        vertical-align: middle;\n",
       "    }\n",
       "\n",
       "    .dataframe tbody tr th {\n",
       "        vertical-align: top;\n",
       "    }\n",
       "\n",
       "    .dataframe thead th {\n",
       "        text-align: right;\n",
       "    }\n",
       "</style>\n",
       "<table border=\"1\" class=\"dataframe\">\n",
       "  <thead>\n",
       "    <tr style=\"text-align: right;\">\n",
       "      <th></th>\n",
       "      <th>chat_id</th>\n",
       "      <th>safe_message</th>\n",
       "    </tr>\n",
       "  </thead>\n",
       "  <tbody>\n",
       "    <tr>\n",
       "      <th>0</th>\n",
       "      <td>1</td>\n",
       "      <td>halo nomor saya 081234567890 email xycom alama...</td>\n",
       "    </tr>\n",
       "    <tr>\n",
       "      <th>1</th>\n",
       "      <td>2</td>\n",
       "      <td>hubungi 6281234567890 ya email saya testmailco...</td>\n",
       "    </tr>\n",
       "  </tbody>\n",
       "</table>\n",
       "</div>"
      ],
      "text/plain": [
       "   chat_id                                       safe_message\n",
       "0        1  halo nomor saya 081234567890 email xycom alama...\n",
       "1        2  hubungi 6281234567890 ya email saya testmailco..."
      ]
     },
     "execution_count": 2,
     "metadata": {},
     "output_type": "execute_result"
    }
   ],
   "source": [
    "# Menggunakan pipeline default pada kolom chat_message\n",
    "df[\"safe_message\"] = leksara(df[\"chat_message\"])\n",
    "\n",
    "# Menampilkan hasilnya\n",
    "df[[\"chat_id\", \"safe_message\"]]"
   ]
  },
  {
   "cell_type": "code",
   "execution_count": 3,
   "id": "b7d66f42",
   "metadata": {},
   "outputs": [
    {
     "name": "stdout",
     "output_type": "stream",
     "text": [
      "['produk Bagus sekali', 'saya beli alat rumah tangga']\n"
     ]
    }
   ],
   "source": [
    "from leksara import word_normalization\n",
    "\n",
    "data = [\"Produk Bagus sekali\", \"Saya membeli peralatan rumah tangga\"]\n",
    "\n",
    "custom_pipeline = {\n",
    "    \"patterns\": [],\n",
    "    \"functions\": [\n",
    "        (word_normalization, {\"word_list\": [\"Bagus\"], \"mode\": \"keep\"})\n",
    "    ]\n",
    "}\n",
    "\n",
    "print(leksara(data, pipeline=custom_pipeline))\n"
   ]
  },
  {
   "cell_type": "code",
   "execution_count": 4,
   "id": "33d436d4",
   "metadata": {},
   "outputs": [
    {
     "name": "stdout",
     "output_type": "stream",
     "text": [
      "=== Data Asli ===\n",
      "   chat_id                                       chat_message\n",
      "0        1  Saya sangat suka produk ini, dan saya akan bel...\n",
      "1        2    Produk ini bagus sekali untuk dipakai di rumah.\n",
      "2        3                  Namun, harga-nya agak mahal ya...\n",
      "\n",
      "=== Setelah Cleaning ===\n",
      "   chat_id                     cleaned\n",
      "0        1            suka produk beli\n",
      "1        2  produk bagus dipakai rumah\n",
      "2        3           harganya mahal ya\n"
     ]
    }
   ],
   "source": [
    "from leksara import case_normal, remove_stopwords, remove_whitespace\n",
    "\n",
    "# --- contoh data ---\n",
    "df = pd.DataFrame({\n",
    "    \"chat_id\": [1, 2, 3],\n",
    "    \"chat_message\": [\n",
    "        \"Saya sangat suka produk ini, dan saya akan beli lagi!\",\n",
    "        \"Produk ini bagus sekali untuk dipakai di rumah.\",\n",
    "        \"Namun, harga-nya agak mahal ya...\"\n",
    "    ]\n",
    "})\n",
    "\n",
    "# --- pipeline sederhana ---\n",
    "custom_pipeline = {\n",
    "    \"functions\": [\n",
    "        case_normal,\n",
    "        remove_stopwords,\n",
    "        remove_punctuation,\n",
    "        remove_whitespace\n",
    "    ]\n",
    "}\n",
    "\n",
    "df[\"cleaned\"] = leksara(df[\"chat_message\"], pipeline=custom_pipeline)\n",
    "\n",
    "print(\"=== Data Asli ===\")\n",
    "print(df[[\"chat_id\", \"chat_message\"]])\n",
    "\n",
    "print(\"\\n=== Setelah Cleaning ===\")\n",
    "print(df[[\"chat_id\", \"cleaned\"]])"
   ]
  },
  {
   "cell_type": "code",
   "execution_count": 5,
   "id": "f933f6a5",
   "metadata": {},
   "outputs": [
    {
     "name": "stdout",
     "output_type": "stream",
     "text": [
      "Original: Produk baru saya: iphone12, harga 12 juta. Hubungi 0812-3456-7890.\n",
      "Processed: produk iphone12 harga 12 juta hubung [PHONE_NUMBER]\n",
      "\n",
      "Original: Email saya: test@example.com. Produk sangat berkualitas!\n",
      "Processed: email [EMAIL] produk kualitas\n",
      "\n"
     ]
    },
    {
     "data": {
      "text/plain": [
       "{'n_steps': 15,\n",
       " 'total_time_sec': 0.0002873999619623646,\n",
       " 'per_step': [('word_normalization', 9.190000128000975e-05),\n",
       "  ('remove_stopwords', 3.2199997804127634e-05),\n",
       "  ('remove_emoji', 2.6599998818710446e-05),\n",
       "  ('mask_whitelist', 2.5699991965666413e-05),\n",
       "  ('unmask_whitelist', 1.719998545013368e-05),\n",
       "  ('replace_phone', 1.619999238755554e-05),\n",
       "  ('replace_url', 1.4499993994832039e-05),\n",
       "  ('replace_address', 1.3700002455152571e-05),\n",
       "  ('remove_punctuation', 1.0800009476952255e-05),\n",
       "  ('replace_email', 8.899995009414852e-06),\n",
       "  ('shorten_elongation', 8.699993486516178e-06),\n",
       "  ('replace_id', 7.599999662488699e-06),\n",
       "  ('remove_whitespace', 6.499991286545992e-06),\n",
       "  ('remove_tags', 5.1000097300857306e-06),\n",
       "  ('case_normal', 1.7999991541728377e-06)]}"
      ]
     },
     "metadata": {},
     "output_type": "display_data"
    },
    {
     "data": {
      "text/plain": [
       "['produk iphone12 harga 12 juta hubung [PHONE_NUMBER]',\n",
       " 'email [EMAIL] produk kualitas']"
      ]
     },
     "metadata": {},
     "output_type": "display_data"
    }
   ],
   "source": [
    "from leksara import ReviewChain\n",
    "from leksara.core.presets import get_preset\n",
    "\n",
    "# Ambil preset ecommerce_review\n",
    "pipeline_steps = get_preset(\"ecommerce_review\")\n",
    "\n",
    "# Membuat ReviewChain dengan langkah-langkah dari preset (BENAR)\n",
    "review_chain = ReviewChain.from_steps(\n",
    "    patterns=pipeline_steps[\"patterns\"],\n",
    "    functions=pipeline_steps[\"functions\"],\n",
    ")\n",
    "\n",
    "# Sample data untuk memproses\n",
    "data = [\n",
    "    \"Produk baru saya: iphone12, harga 12 juta. Hubungi 0812-3456-7890.\",\n",
    "    \"Email saya: test@example.com. Produk sangat berkualitas!\"\n",
    "]\n",
    "\n",
    "# Proses teks menggunakan pipeline\n",
    "processed_data = review_chain.transform(data)\n",
    "\n",
    "# Menampilkan hasil setelah diproses\n",
    "for original, processed in zip(data, processed_data):\n",
    "    print(f\"Original: {original}\")\n",
    "    print(f\"Processed: {processed}\\n\")\n",
    "\n",
    "out, metrics = review_chain.transform(data, benchmark=True)\n",
    "display(metrics)\n",
    "display(out)\n"
   ]
  },
  {
   "cell_type": "code",
   "execution_count": 6,
   "id": "51010c67",
   "metadata": {},
   "outputs": [
    {
     "name": "stdout",
     "output_type": "stream",
     "text": [
      "1. replace_phone\n",
      "2. replace_email\n",
      "3. replace_address\n",
      "4. replace_id\n",
      "5. mask_whitelist\n",
      "6. remove_tags\n",
      "7. case_normal\n",
      "8. replace_url\n",
      "9. remove_emoji\n",
      "10. word_normalization\n",
      "11. remove_stopwords\n",
      "12. shorten_elongation\n",
      "13. remove_punctuation\n",
      "14. remove_whitespace\n",
      "15. unmask_whitelist\n"
     ]
    }
   ],
   "source": [
    "steps = review_chain.named_steps\n",
    "for i, (k, v) in enumerate(steps.items(), 1):\n",
    "    print(f\"{i}. {v}\")"
   ]
  }
 ],
 "metadata": {
  "kernelspec": {
   "display_name": "Python 3",
   "language": "python",
   "name": "python3"
  },
  "language_info": {
   "codemirror_mode": {
    "name": "ipython",
    "version": 3
   },
   "file_extension": ".py",
   "mimetype": "text/x-python",
   "name": "python",
   "nbconvert_exporter": "python",
   "pygments_lexer": "ipython3",
   "version": "3.11.13"
  }
 },
 "nbformat": 4,
 "nbformat_minor": 5
}
