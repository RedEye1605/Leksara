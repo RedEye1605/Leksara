{
 "cells": [
  {
   "cell_type": "markdown",
   "id": "1282ac8f",
   "metadata": {},
   "source": [
    "# Notebook: Uji Cepat Leksara\n",
    "Notebook ini menguji library `leksara` end-to-end: cek lingkungan, instal, import, uji fungsi/kualitas output, pipeline kustom, I/O, benchmark, hingga pembersihan."
   ]
  },
  {
   "cell_type": "code",
   "execution_count": 1,
   "id": "54c9e252",
   "metadata": {},
   "outputs": [
    {
     "name": "stdout",
     "output_type": "stream",
     "text": [
      "   chat_id                               safe_message\n",
      "0        1   halo nomor saya phone_number email email\n",
      "1        2  hubungi phone_number ya  email saya email\n"
     ]
    }
   ],
   "source": [
    "import pandas as pd;\n",
    "from leksara import leksara, ReviewChain;\n",
    "from leksara.functions.cleaner.basic import case_normal, remove_punctuation;\n",
    "from leksara.functions.patterns.pii import replace_phone, replace_email;\n",
    "\n",
    "df = pd.DataFrame({\n",
    "    \"chat_id\": [1, 2],\n",
    "    \"chat_message\": [\n",
    "        \"Halo! Nomor saya 0812-3456-7890. Email: x@y.com\",\n",
    "        \"Hubungi +6281234567890 ya — EMAIL saya: test@mail.co.id!\"\n",
    "    ]\n",
    "})\n",
    "\n",
    "# --- Functional style (custom pipeline) ---\n",
    "custom_pipeline = {\n",
    "    \"patterns\": [\n",
    "        replace_phone,\n",
    "        replace_email\n",
    "    ],\n",
    "    \"functions\": [\n",
    "        case_normal,\n",
    "        remove_punctuation\n",
    "    ]\n",
    "}\n",
    "\n",
    "df[\"safe_message\"] = leksara(df[\"chat_message\"], pipeline=custom_pipeline)\n",
    "print(df[[\"chat_id\", \"safe_message\"]])"
   ]
  },
  {
   "cell_type": "code",
   "execution_count": 2,
   "id": "b7d66f42",
   "metadata": {},
   "outputs": [
    {
     "name": "stdout",
     "output_type": "stream",
     "text": [
      "['produk Bagus sekali', 'saya beli alat rumah tangga']\n"
     ]
    }
   ],
   "source": [
    "from leksara.functions.review.advanced import word_normalization\n",
    "\n",
    "data = [\"Produk Bagus sekali\", \"Saya membeli peralatan rumah tangga\"]\n",
    "\n",
    "custom_pipeline = {\n",
    "    \"patterns\": [],\n",
    "    \"functions\": [\n",
    "        (word_normalization, {\"word_list\": [\"Bagus\"], \"mode\": \"keep\"})\n",
    "    ]\n",
    "}\n",
    "\n",
    "print(leksara(data, pipeline=custom_pipeline))\n"
   ]
  },
  {
   "cell_type": "code",
   "execution_count": null,
   "id": "33d436d4",
   "metadata": {},
   "outputs": [
    {
     "name": "stdout",
     "output_type": "stream",
     "text": [
      "=== Data Asli ===\n",
      "   chat_id                                       chat_message\n",
      "0        1  Saya sangat suka produk ini, dan saya akan bel...\n",
      "1        2    Produk ini bagus sekali untuk dipakai di rumah.\n",
      "2        3                  Namun, harga-nya agak mahal ya...\n",
      "\n",
      "=== Setelah Cleaning ===\n",
      "   chat_id                      cleaned\n",
      "0        1         suka produk , beli !\n",
      "1        2  produk bagus dipakai rumah.\n",
      "2        3      , harga-nya mahal ya...\n"
     ]
    }
   ],
   "source": [
    "from leksara.functions.cleaner.basic import (\n",
    "    case_normal, remove_stopwords, remove_whitespace\n",
    ")\n",
    "\n",
    "# --- contoh data ---\n",
    "df = pd.DataFrame({\n",
    "    \"chat_id\": [1, 2, 3],\n",
    "    \"chat_message\": [\n",
    "        \"Saya sangat suka produk ini, dan saya akan beli lagi!\",\n",
    "        \"Produk ini bagus sekali untuk dipakai di rumah.\",\n",
    "        \"Namun, harga-nya agak mahal ya...\"\n",
    "    ]\n",
    "})\n",
    "\n",
    "print(\"=== Data Asli ===\")\n",
    "print(df)\n",
    "\n",
    "# --- pipeline sederhana ---\n",
    "df[\"cleaned\"] = (\n",
    "    df[\"chat_message\"]\n",
    "    .apply(case_normal)          # ubah jadi huruf kecil\n",
    "    .apply(remove_stopwords)     # hapus stopwords (gabungan NLTK + lokal)\n",
    "    .apply(remove_whitespace)    # normalisasi spasi\n",
    ")\n",
    "\n",
    "print(\"\\n=== Setelah Cleaning ===\")\n",
    "print(df[[\"chat_id\", \"cleaned\"]])"
   ]
  }
 ],
 "metadata": {
  "kernelspec": {
   "display_name": "Python 3",
   "language": "python",
   "name": "python3"
  },
  "language_info": {
   "codemirror_mode": {
    "name": "ipython",
    "version": 3
   },
   "file_extension": ".py",
   "mimetype": "text/x-python",
   "name": "python",
   "nbconvert_exporter": "python",
   "pygments_lexer": "ipython3",
   "version": "3.11.13"
  }
 },
 "nbformat": 4,
 "nbformat_minor": 5
}
