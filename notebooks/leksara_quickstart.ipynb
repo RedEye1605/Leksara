{
 "cells": [
  {
   "cell_type": "markdown",
   "id": "1282ac8f",
   "metadata": {},
   "source": [
    "# Notebook: Uji Cepat Leksara\n",
    "Notebook ini menguji library `leksara` end-to-end: cek lingkungan, instal, import, uji fungsi/kualitas output, pipeline kustom, I/O, benchmark, hingga pembersihan."
   ]
  },
  {
   "cell_type": "code",
   "execution_count": 1,
   "id": "edcc5c32",
   "metadata": {},
   "outputs": [
    {
     "name": "stdout",
     "output_type": "stream",
     "text": [
      "{'python': '3.11.13 | packaged by Anaconda, Inc. | (main, Jun  5 2025, 13:03:15) [MSC v.1929 64 bit (AMD64)]', 'platform': 'Windows-10-10.0.22631-SP0', 'cwd': 'c:\\\\Users\\\\Rhendy Saragih\\\\Downloads\\\\Kerjaan\\\\Leksara\\\\notebooks'}\n"
     ]
    }
   ],
   "source": [
    "# Section 1 — Cek Lingkungan & Set Random Seed\n",
    "import sys, platform, os, random, warnings, logging, time\n",
    "try: import numpy as np\n",
    "except Exception: np = None\n",
    "try: import torch\n",
    "except Exception: torch = None\n",
    "print({\"python\": sys.version, \"platform\": platform.platform(), \"cwd\": os.getcwd()})\n",
    "random.seed(1337)\n",
    "if np is not None: np.random.seed(1337)\n",
    "if torch is not None: torch.manual_seed(1337)\n",
    "logging.basicConfig(level=logging.INFO)\n",
    "warnings.filterwarnings(\"ignore\")"
   ]
  },
  {
   "cell_type": "code",
   "execution_count": 6,
   "id": "09b903e6",
   "metadata": {},
   "outputs": [
    {
     "name": "stdout",
     "output_type": "stream",
     "text": [
      "Obtaining file:///C:/Users/Rhendy%20Saragih/Downloads/Kerjaan/Leksara/notebooks\n",
      "Note: you may need to restart the kernel to use updated packages.\n",
      "Installing runtime dependencies into current kernel ...\n"
     ]
    },
    {
     "name": "stderr",
     "output_type": "stream",
     "text": [
      "ERROR: file:///C:/Users/Rhendy%20Saragih/Downloads/Kerjaan/Leksara/notebooks does not appear to be a Python project: neither 'setup.py' nor 'pyproject.toml' found.\n"
     ]
    },
    {
     "name": "stdout",
     "output_type": "stream",
     "text": [
      "Imported leksara from: C:\\Users\\Rhendy Saragih\\Downloads\\Kerjaan\\Leksara\\leksara\\__init__.py\n",
      "pip show leksara: (no metadata)\n",
      "pip show leksara: (no metadata)\n"
     ]
    }
   ],
   "source": [
    "# Section 2 — Instal / Upgrade Library (editable)\n",
    "%pip install -e .\n",
    "import importlib, pkgutil, sys, os, subprocess\n",
    "from pathlib import Path\n",
    "\n",
    "# Ensure runtime deps exist in this kernel (regex, pandas, emoji, Sastrawi)\n",
    "try:\n",
    "    import regex as _rx  # type: ignore\n",
    "    import pandas as _pd  # type: ignore\n",
    "    import emoji as _emoji  # type: ignore\n",
    "    import Sastrawi as _sastrawi  # type: ignore\n",
    "except Exception:\n",
    "    print(\"Installing runtime dependencies into current kernel ...\")\n",
    "    subprocess.run([sys.executable, \"-m\", \"pip\", \"install\", \"regex\", \"pandas\", \"emoji\", \"Sastrawi\"], check=False)\n",
    "\n",
    "\n",
    "def _find_repo_root(start: str | None = None) -> str:\n",
    "    p = Path(start or os.getcwd()).resolve()\n",
    "    for _ in range(10):\n",
    "        if (p / \"pyproject.toml\").exists() or (p / \"setup.py\").exists():\n",
    "            return str(p)\n",
    "        if p.parent == p:\n",
    "            break\n",
    "        p = p.parent\n",
    "    return str(Path(os.getcwd()).resolve())\n",
    "\n",
    "\n",
    "def _ensure_import():\n",
    "    try:\n",
    "        import leksara as _test_import  # sanity\n",
    "        print(\"Imported leksara from:\", _test_import.__file__)\n",
    "        return _test_import\n",
    "    except ModuleNotFoundError:\n",
    "        # Fallback: add discovered repo root to sys.path for local development\n",
    "        repo_root = _find_repo_root()\n",
    "        if repo_root not in sys.path:\n",
    "            sys.path.insert(0, repo_root)\n",
    "        _test_import = importlib.import_module(\"leksara\")\n",
    "        print(\"Imported leksara via sys.path fallback from:\", _test_import.__file__)\n",
    "        return _test_import\n",
    "\n",
    "\n",
    "leksara_mod = _ensure_import()\n",
    "# Tampilkan info distribusi terinstal (jika ada)\n",
    "try:\n",
    "    out = subprocess.run([sys.executable, \"-m\", \"pip\", \"show\", \"leksara\"], capture_output=True, text=True)\n",
    "    print(out.stdout.strip() or \"pip show leksara: (no metadata)\")\n",
    "except Exception:\n",
    "    pass"
   ]
  },
  {
   "cell_type": "code",
   "execution_count": 7,
   "id": "eb937203",
   "metadata": {},
   "outputs": [
    {
     "name": "stdout",
     "output_type": "stream",
     "text": [
      "leksara available symbols: ['Any', 'Callable', 'Iterable', 'annotate_flags', 'annotations', 'apply_preset', 'basic_clean', 'build_frame', 'build_frame_from_df', 'cartboard', 'clean', 'get_preset', 'leksara', 'patterns', 'pd', 'presets', 'review_chain', 'review_cleaner', 'review_miner', 'user_brush', 'utils']\n"
     ]
    }
   ],
   "source": [
    "# Section 3 — Import Library & Verifikasi\n",
    "import leksara\n",
    "from leksara import basic_clean, review_cleaner, user_brush, review_miner, patterns, leksara as leksara_run\n",
    "from leksara.cartboard import build_frame, build_frame_from_df, annotate_flags\n",
    "from leksara.presets import ecommerce_review_preset\n",
    "print(\"leksara available symbols:\", [n for n in dir(leksara) if not n.startswith('_')][:30])"
   ]
  },
  {
   "cell_type": "code",
   "execution_count": 17,
   "id": "727ecefa",
   "metadata": {},
   "outputs": [
    {
     "data": {
      "application/vnd.microsoft.datawrangler.viewer.v0+json": {
       "columns": [
        {
         "name": "index",
         "rawType": "int64",
         "type": "integer"
        },
        {
         "name": "chat_id",
         "rawType": "int64",
         "type": "integer"
        },
        {
         "name": "chat_message",
         "rawType": "object",
         "type": "string"
        }
       ],
       "ref": "e182eb04-8a70-464a-9dc6-ce27b6aac768",
       "rows": [
        [
         "0",
         "1",
         "Halo gan, hubungi saya di 0812-3456-7890 ya!"
        ],
        [
         "1",
         "2",
         "Barangnya BAAAguuusss banget!!!"
        ],
        [
         "2",
         "3",
         "Email saya: test@example.com, alamat: Jl. Mawar No. 12"
        ]
       ],
       "shape": {
        "columns": 2,
        "rows": 3
       }
      },
      "text/html": [
       "<div>\n",
       "<style scoped>\n",
       "    .dataframe tbody tr th:only-of-type {\n",
       "        vertical-align: middle;\n",
       "    }\n",
       "\n",
       "    .dataframe tbody tr th {\n",
       "        vertical-align: top;\n",
       "    }\n",
       "\n",
       "    .dataframe thead th {\n",
       "        text-align: right;\n",
       "    }\n",
       "</style>\n",
       "<table border=\"1\" class=\"dataframe\">\n",
       "  <thead>\n",
       "    <tr style=\"text-align: right;\">\n",
       "      <th></th>\n",
       "      <th>chat_id</th>\n",
       "      <th>chat_message</th>\n",
       "    </tr>\n",
       "  </thead>\n",
       "  <tbody>\n",
       "    <tr>\n",
       "      <th>0</th>\n",
       "      <td>1</td>\n",
       "      <td>Halo gan, hubungi saya di 0812-3456-7890 ya!</td>\n",
       "    </tr>\n",
       "    <tr>\n",
       "      <th>1</th>\n",
       "      <td>2</td>\n",
       "      <td>Barangnya BAAAguuusss banget!!!</td>\n",
       "    </tr>\n",
       "    <tr>\n",
       "      <th>2</th>\n",
       "      <td>3</td>\n",
       "      <td>Email saya: test@example.com, alamat: Jl. Mawa...</td>\n",
       "    </tr>\n",
       "  </tbody>\n",
       "</table>\n",
       "</div>"
      ],
      "text/plain": [
       "   chat_id                                       chat_message\n",
       "0        1       Halo gan, hubungi saya di 0812-3456-7890 ya!\n",
       "1        2                    Barangnya BAAAguuusss banget!!!\n",
       "2        3  Email saya: test@example.com, alamat: Jl. Mawa..."
      ]
     },
     "execution_count": 17,
     "metadata": {},
     "output_type": "execute_result"
    }
   ],
   "source": [
    "# Section 4 — Siapkan Data/Input Uji\n",
    "import pandas as pd\n",
    "df = pd.DataFrame({\n",
    "    'chat_id': [1,2,3],\n",
    "    'chat_message': [\n",
    "        'Halo gan, hubungi saya di 0812-3456-7890 ya!',\n",
    "        'Barangnya BAAAguuusss banget!!!',\n",
    "        'Email saya: test@example.com, alamat: Jl. Mawar No. 12'\n",
    "    ]\n",
    ",})\n",
    "df.head()"
   ]
  },
  {
   "cell_type": "code",
   "execution_count": 9,
   "id": "ff08c7b7",
   "metadata": {},
   "outputs": [
    {
     "name": "stdout",
     "output_type": "stream",
     "text": [
      "basic_clean & mask phone OK\n"
     ]
    }
   ],
   "source": [
    "# Section 5 — Uji Fungsi Utama\n",
    "assert basic_clean('Ini   Teks   KOTOR!!!') == 'ini teks kotor!!!'\n",
    "masked = patterns.MASK_PHONE('hubungi 0812 3456 7890')\n",
    "assert '<PHONE>' in masked\n",
    "print('basic_clean & mask phone OK')"
   ]
  },
  {
   "cell_type": "code",
   "execution_count": 10,
   "id": "b0e50439",
   "metadata": {},
   "outputs": [
    {
     "data": {
      "application/vnd.microsoft.datawrangler.viewer.v0+json": {
       "columns": [
        {
         "name": "index",
         "rawType": "int64",
         "type": "integer"
        },
        {
         "name": "original_text",
         "rawType": "object",
         "type": "string"
        },
        {
         "name": "refined_text",
         "rawType": "object",
         "type": "string"
        },
        {
         "name": "rating",
         "rawType": "object",
         "type": "unknown"
        },
        {
         "name": "rating_flag",
         "rawType": "bool",
         "type": "boolean"
        },
        {
         "name": "pii_flag",
         "rawType": "bool",
         "type": "boolean"
        },
        {
         "name": "non_alphabetical_flag",
         "rawType": "bool",
         "type": "boolean"
        },
        {
         "name": "lang_mix_flag",
         "rawType": "bool",
         "type": "boolean"
        }
       ],
       "ref": "102e3bca-5bf0-4f66-8b41-d4f821c3b63e",
       "rows": [
        [
         "0",
         "Halo gan, hubungi saya di 0812-3456-7890 ya!",
         "Halo gan, hubungi saya di 0812-3456-7890 ya!",
         null,
         "False",
         "False",
         "False",
         "False"
        ],
        [
         "1",
         "Barangnya BAAAguuusss banget!!!",
         "Barangnya BAAAguuusss banget!!!",
         null,
         "False",
         "False",
         "False",
         "False"
        ],
        [
         "2",
         "Email saya: test@example.com, alamat: Jl. Mawar No. 12",
         "Email saya: test@example.com, alamat: Jl. Mawar No. 12",
         null,
         "False",
         "False",
         "False",
         "False"
        ]
       ],
       "shape": {
        "columns": 7,
        "rows": 3
       }
      },
      "text/html": [
       "<div>\n",
       "<style scoped>\n",
       "    .dataframe tbody tr th:only-of-type {\n",
       "        vertical-align: middle;\n",
       "    }\n",
       "\n",
       "    .dataframe tbody tr th {\n",
       "        vertical-align: top;\n",
       "    }\n",
       "\n",
       "    .dataframe thead th {\n",
       "        text-align: right;\n",
       "    }\n",
       "</style>\n",
       "<table border=\"1\" class=\"dataframe\">\n",
       "  <thead>\n",
       "    <tr style=\"text-align: right;\">\n",
       "      <th></th>\n",
       "      <th>original_text</th>\n",
       "      <th>refined_text</th>\n",
       "      <th>rating</th>\n",
       "      <th>rating_flag</th>\n",
       "      <th>pii_flag</th>\n",
       "      <th>non_alphabetical_flag</th>\n",
       "      <th>lang_mix_flag</th>\n",
       "    </tr>\n",
       "  </thead>\n",
       "  <tbody>\n",
       "    <tr>\n",
       "      <th>0</th>\n",
       "      <td>Halo gan, hubungi saya di 0812-3456-7890 ya!</td>\n",
       "      <td>Halo gan, hubungi saya di 0812-3456-7890 ya!</td>\n",
       "      <td>&lt;NA&gt;</td>\n",
       "      <td>False</td>\n",
       "      <td>False</td>\n",
       "      <td>False</td>\n",
       "      <td>False</td>\n",
       "    </tr>\n",
       "    <tr>\n",
       "      <th>1</th>\n",
       "      <td>Barangnya BAAAguuusss banget!!!</td>\n",
       "      <td>Barangnya BAAAguuusss banget!!!</td>\n",
       "      <td>&lt;NA&gt;</td>\n",
       "      <td>False</td>\n",
       "      <td>False</td>\n",
       "      <td>False</td>\n",
       "      <td>False</td>\n",
       "    </tr>\n",
       "    <tr>\n",
       "      <th>2</th>\n",
       "      <td>Email saya: test@example.com, alamat: Jl. Mawa...</td>\n",
       "      <td>Email saya: test@example.com, alamat: Jl. Mawa...</td>\n",
       "      <td>&lt;NA&gt;</td>\n",
       "      <td>False</td>\n",
       "      <td>False</td>\n",
       "      <td>False</td>\n",
       "      <td>False</td>\n",
       "    </tr>\n",
       "  </tbody>\n",
       "</table>\n",
       "</div>"
      ],
      "text/plain": [
       "                                       original_text  \\\n",
       "0       Halo gan, hubungi saya di 0812-3456-7890 ya!   \n",
       "1                    Barangnya BAAAguuusss banget!!!   \n",
       "2  Email saya: test@example.com, alamat: Jl. Mawa...   \n",
       "\n",
       "                                        refined_text rating  rating_flag  \\\n",
       "0       Halo gan, hubungi saya di 0812-3456-7890 ya!   <NA>        False   \n",
       "1                    Barangnya BAAAguuusss banget!!!   <NA>        False   \n",
       "2  Email saya: test@example.com, alamat: Jl. Mawa...   <NA>        False   \n",
       "\n",
       "   pii_flag  non_alphabetical_flag  lang_mix_flag  \n",
       "0     False                  False          False  \n",
       "1     False                  False          False  \n",
       "2     False                  False          False  "
      ]
     },
     "execution_count": 10,
     "metadata": {},
     "output_type": "execute_result"
    }
   ],
   "source": [
    "# Section 6 — Uji Kelas/Objek Utama (ReviewChain & Preset)\n",
    "from leksara.presets import ecommerce_review_preset\n",
    "from leksara.cartboard import build_frame\n",
    "chain = ecommerce_review_preset()\n",
    "out_df = chain.run_on_dataframe(build_frame(df['chat_message']))\n",
    "assert 'refined_text' in out_df.columns\n",
    "out_df.head()"
   ]
  },
  {
   "cell_type": "code",
   "execution_count": 11,
   "id": "66b3073f",
   "metadata": {},
   "outputs": [
    {
     "name": "stdout",
     "output_type": "stream",
     "text": [
      "TypeError tertangkap untuk basic_clean angka\n"
     ]
    }
   ],
   "source": [
    "# Section 7 — Uji Kasus Tepi & Validasi Error\n",
    "try:\n",
    "    _ = basic_clean(123)\n",
    "except TypeError:\n",
    "    print('TypeError tertangkap untuk basic_clean angka')\n",
    "else:\n",
    "    print('Peringatan: basic_clean seharusnya error untuk tipe non-string/non-iterable')"
   ]
  },
  {
   "cell_type": "code",
   "execution_count": 12,
   "id": "acf56a67",
   "metadata": {},
   "outputs": [
    {
     "data": {
      "text/plain": [
       "'C:\\\\Users\\\\RHENDY~1\\\\AppData\\\\Local\\\\Temp\\\\leksara_demo_cjtne6e8\\\\output.json'"
      ]
     },
     "execution_count": 12,
     "metadata": {},
     "output_type": "execute_result"
    }
   ],
   "source": [
    "# Section 8 — Uji I/O: Simpan & Muat\n",
    "import tempfile, json, os\n",
    "tmpdir = tempfile.mkdtemp(prefix='leksara_demo_')\n",
    "json_path = os.path.join(tmpdir, 'output.json')\n",
    "# Simpan refined_text hasil preset\n",
    "out_df[['refined_text']].to_json(json_path, orient='records', force_ascii=False)\n",
    "loaded = json.loads(open(json_path, 'r', encoding='utf-8').read())\n",
    "assert isinstance(loaded, list) and len(loaded) == len(out_df)\n",
    "json_path"
   ]
  },
  {
   "cell_type": "code",
   "execution_count": 13,
   "id": "ba344ef5",
   "metadata": {},
   "outputs": [
    {
     "name": "stdout",
     "output_type": "stream",
     "text": [
      "Mask+Lower 6000 teks: 0.007s\n"
     ]
    }
   ],
   "source": [
    "# Section 9 — Uji Kinerja (Benchmark)\n",
    "from time import perf_counter\n",
    "big = df['chat_message'].tolist() * 2000\n",
    "t0 = perf_counter()\n",
    "_ = [patterns.TO_LOWER(patterns.MASK_PHONE(t)) for t in big]\n",
    "t1 = perf_counter()\n",
    "print(f\"Mask+Lower {len(big)} teks: {t1 - t0:.3f}s\")"
   ]
  },
  {
   "cell_type": "code",
   "execution_count": 14,
   "id": "1d51e0e1",
   "metadata": {},
   "outputs": [
    {
     "ename": "ModuleNotFoundError",
     "evalue": "No module named 'matplotlib'",
     "output_type": "error",
     "traceback": [
      "\u001b[31m---------------------------------------------------------------------------\u001b[39m",
      "\u001b[31mModuleNotFoundError\u001b[39m                       Traceback (most recent call last)",
      "\u001b[36mCell\u001b[39m\u001b[36m \u001b[39m\u001b[32mIn[14]\u001b[39m\u001b[32m, line 2\u001b[39m\n\u001b[32m      1\u001b[39m \u001b[38;5;66;03m# Section 10 — Visualisasi/Inspeksi Output\u001b[39;00m\n\u001b[32m----> \u001b[39m\u001b[32m2\u001b[39m \u001b[38;5;28;01mimport\u001b[39;00m\u001b[38;5;250m \u001b[39m\u001b[34;01mmatplotlib\u001b[39;00m\u001b[34;01m.\u001b[39;00m\u001b[34;01mpyplot\u001b[39;00m\u001b[38;5;250m \u001b[39m\u001b[38;5;28;01mas\u001b[39;00m\u001b[38;5;250m \u001b[39m\u001b[34;01mplt\u001b[39;00m\n\u001b[32m      3\u001b[39m lens = out_df[\u001b[33m'\u001b[39m\u001b[33mrefined_text\u001b[39m\u001b[33m'\u001b[39m].fillna(\u001b[33m'\u001b[39m\u001b[33m'\u001b[39m).map(\u001b[38;5;28mlen\u001b[39m)\n\u001b[32m      4\u001b[39m lens.plot(kind=\u001b[33m'\u001b[39m\u001b[33mbar\u001b[39m\u001b[33m'\u001b[39m, title=\u001b[33m'\u001b[39m\u001b[33mPanjang refined_text\u001b[39m\u001b[33m'\u001b[39m)\n",
      "\u001b[31mModuleNotFoundError\u001b[39m: No module named 'matplotlib'"
     ]
    }
   ],
   "source": [
    "# Section 10 — Visualisasi/Inspeksi Output\n",
    "import matplotlib.pyplot as plt\n",
    "lens = out_df['refined_text'].fillna('').map(len)\n",
    "lens.plot(kind='bar', title='Panjang refined_text')\n",
    "plt.show()\n",
    "out_df[['refined_text']].head()"
   ]
  },
  {
   "cell_type": "code",
   "execution_count": 15,
   "id": "edac63e1",
   "metadata": {},
   "outputs": [
    {
     "name": "stdout",
     "output_type": "stream",
     "text": [
      "CLI-simulated import returncode: 1\n",
      "stdout: \n",
      "stderr: Traceback (most recent call last):\n",
      "  File \"<string>\", line 1, in <module>\n",
      "ModuleNotFoundError: No module named 'leksara'\n",
      "Removed: C:\\Users\\RHENDY~1\\AppData\\Local\\Temp\\leksara_demo_cjtne6e8\n"
     ]
    }
   ],
   "source": [
    "# Section 11 — Eksekusi CLI (Jika Ada)\n",
    "import subprocess, sys\n",
    "res = subprocess.run([sys.executable, '-c', 'import leksara,sys;print(\\'ok\\')'], capture_output=True, text=True)\n",
    "print('CLI-simulated import returncode:', res.returncode)\n",
    "print('stdout:', res.stdout.strip())\n",
    "print('stderr:', res.stderr.strip())\n",
    "\n",
    "\n",
    "# Section 12 — Pembersihan Artefak\n",
    "import shutil\n",
    "shutil.rmtree(tmpdir, ignore_errors=True)\n",
    "print('Removed:', tmpdir)"
   ]
  },
  {
   "cell_type": "code",
   "execution_count": 19,
   "id": "d03da6b9",
   "metadata": {},
   "outputs": [
    {
     "data": {
      "application/vnd.microsoft.datawrangler.viewer.v0+json": {
       "columns": [
        {
         "name": "index",
         "rawType": "int64",
         "type": "integer"
        },
        {
         "name": "chat_id",
         "rawType": "int64",
         "type": "integer"
        },
        {
         "name": "chat_message",
         "rawType": "object",
         "type": "string"
        }
       ],
       "ref": "98277440-6ba1-433a-8522-33759e67e41c",
       "rows": [
        [
         "0",
         "1",
         "Halo gan, hubungi saya di 0812-3456-7890 ya!"
        ],
        [
         "1",
         "2",
         "Barangnya BAAAguuusss banget!!!"
        ],
        [
         "2",
         "3",
         "Email saya: test@example.com, alamat: Jl. Mawar No. 12"
        ]
       ],
       "shape": {
        "columns": 2,
        "rows": 3
       }
      },
      "text/html": [
       "<div>\n",
       "<style scoped>\n",
       "    .dataframe tbody tr th:only-of-type {\n",
       "        vertical-align: middle;\n",
       "    }\n",
       "\n",
       "    .dataframe tbody tr th {\n",
       "        vertical-align: top;\n",
       "    }\n",
       "\n",
       "    .dataframe thead th {\n",
       "        text-align: right;\n",
       "    }\n",
       "</style>\n",
       "<table border=\"1\" class=\"dataframe\">\n",
       "  <thead>\n",
       "    <tr style=\"text-align: right;\">\n",
       "      <th></th>\n",
       "      <th>chat_id</th>\n",
       "      <th>chat_message</th>\n",
       "    </tr>\n",
       "  </thead>\n",
       "  <tbody>\n",
       "    <tr>\n",
       "      <th>0</th>\n",
       "      <td>1</td>\n",
       "      <td>Halo gan, hubungi saya di 0812-3456-7890 ya!</td>\n",
       "    </tr>\n",
       "    <tr>\n",
       "      <th>1</th>\n",
       "      <td>2</td>\n",
       "      <td>Barangnya BAAAguuusss banget!!!</td>\n",
       "    </tr>\n",
       "    <tr>\n",
       "      <th>2</th>\n",
       "      <td>3</td>\n",
       "      <td>Email saya: test@example.com, alamat: Jl. Mawa...</td>\n",
       "    </tr>\n",
       "  </tbody>\n",
       "</table>\n",
       "</div>"
      ],
      "text/plain": [
       "   chat_id                                       chat_message\n",
       "0        1       Halo gan, hubungi saya di 0812-3456-7890 ya!\n",
       "1        2                    Barangnya BAAAguuusss banget!!!\n",
       "2        3  Email saya: test@example.com, alamat: Jl. Mawa..."
      ]
     },
     "execution_count": 19,
     "metadata": {},
     "output_type": "execute_result"
    }
   ],
   "source": [
    "# Section 4 — Siapkan Data/Input Uji\n",
    "import pandas as pd\n",
    "df = pd.DataFrame({\n",
    "    'chat_id': [1,2,3],\n",
    "    'chat_message': [\n",
    "        'Halo gan, hubungi saya di 0812-3456-7890 ya!',\n",
    "        'Barangnya BAAAguuusss banget!!!',\n",
    "        'Email saya: test@example.com, alamat: Jl. Mawar No. 12'\n",
    "    ]\n",
    ",})\n",
    "df.head()"
   ]
  },
  {
   "cell_type": "code",
   "execution_count": null,
   "id": "d25a6326",
   "metadata": {},
   "outputs": [
    {
     "name": "stdout",
     "output_type": "stream",
     "text": [
      "   chat_id                                       safe_message\n",
      "0        1               halo gan, hubungi saya di <phone>ya!\n",
      "1        2                    barangnya baaaguuusss banget!!!\n",
      "2        3  email saya: test@example.com, alamat: jl. mawa...\n"
     ]
    }
   ],
   "source": [
    "# Demo: Gaya pemakaian mirip contoh (CamelCase + pipeline kustom)\n",
    "# Fallback ke lowercase package\n",
    "from leksara import leksara\n",
    "from leksara.functions import to_lowercase\n",
    "from leksara.patterns import MASK_PHONE as replace_phone\n",
    "\n",
    "custom_pipeline = {\n",
    "    'patterns': [replace_phone],  # buat sensor nomor telepon\n",
    "    'functions': [to_lowercase],  # fungsi spesifik yang dipakai\n",
    "}\n",
    "\n",
    "df['safe_message'] = leksara(df['chat_message'], pipeline=custom_pipeline)\n",
    "print(df[['chat_id', 'safe_message']])"
   ]
  },
  {
   "cell_type": "code",
   "execution_count": 21,
   "id": "222c025b",
   "metadata": {},
   "outputs": [
    {
     "data": {
      "application/vnd.microsoft.datawrangler.viewer.v0+json": {
       "columns": [
        {
         "name": "index",
         "rawType": "int64",
         "type": "integer"
        },
        {
         "name": "chat_id",
         "rawType": "int64",
         "type": "integer"
        },
        {
         "name": "chat_message",
         "rawType": "object",
         "type": "string"
        },
        {
         "name": "masked",
         "rawType": "object",
         "type": "string"
        },
        {
         "name": "redacted",
         "rawType": "object",
         "type": "string"
        }
       ],
       "ref": "7573de57-8f14-410a-8bac-0f9bc3538529",
       "rows": [
        [
         "0",
         "1",
         "Halo gan, hubungi saya di 0812-3456-7890 ya!",
         "Halo gan, hubungi saya di <PHONE>ya!",
         "Halo gan, hubungi saya di  ya!"
        ],
        [
         "1",
         "2",
         "Barangnya BAAAguuusss banget!!!",
         "Barangnya BAAAguuusss banget!!!",
         "Barangnya BAAAguuusss banget!!!"
        ],
        [
         "2",
         "3",
         "Email saya: test@example.com, alamat: Jl. Mawar No. 12",
         "Email saya: <EMAIL>, alamat: <ADDRESS>",
         "Email saya:  , alamat:  "
        ]
       ],
       "shape": {
        "columns": 4,
        "rows": 3
       }
      },
      "text/html": [
       "<div>\n",
       "<style scoped>\n",
       "    .dataframe tbody tr th:only-of-type {\n",
       "        vertical-align: middle;\n",
       "    }\n",
       "\n",
       "    .dataframe tbody tr th {\n",
       "        vertical-align: top;\n",
       "    }\n",
       "\n",
       "    .dataframe thead th {\n",
       "        text-align: right;\n",
       "    }\n",
       "</style>\n",
       "<table border=\"1\" class=\"dataframe\">\n",
       "  <thead>\n",
       "    <tr style=\"text-align: right;\">\n",
       "      <th></th>\n",
       "      <th>chat_id</th>\n",
       "      <th>chat_message</th>\n",
       "      <th>masked</th>\n",
       "      <th>redacted</th>\n",
       "    </tr>\n",
       "  </thead>\n",
       "  <tbody>\n",
       "    <tr>\n",
       "      <th>0</th>\n",
       "      <td>1</td>\n",
       "      <td>Halo gan, hubungi saya di 0812-3456-7890 ya!</td>\n",
       "      <td>Halo gan, hubungi saya di &lt;PHONE&gt;ya!</td>\n",
       "      <td>Halo gan, hubungi saya di  ya!</td>\n",
       "    </tr>\n",
       "    <tr>\n",
       "      <th>1</th>\n",
       "      <td>2</td>\n",
       "      <td>Barangnya BAAAguuusss banget!!!</td>\n",
       "      <td>Barangnya BAAAguuusss banget!!!</td>\n",
       "      <td>Barangnya BAAAguuusss banget!!!</td>\n",
       "    </tr>\n",
       "    <tr>\n",
       "      <th>2</th>\n",
       "      <td>3</td>\n",
       "      <td>Email saya: test@example.com, alamat: Jl. Mawa...</td>\n",
       "      <td>Email saya: &lt;EMAIL&gt;, alamat: &lt;ADDRESS&gt;</td>\n",
       "      <td>Email saya:  , alamat:</td>\n",
       "    </tr>\n",
       "  </tbody>\n",
       "</table>\n",
       "</div>"
      ],
      "text/plain": [
       "   chat_id                                       chat_message  \\\n",
       "0        1       Halo gan, hubungi saya di 0812-3456-7890 ya!   \n",
       "1        2                    Barangnya BAAAguuusss banget!!!   \n",
       "2        3  Email saya: test@example.com, alamat: Jl. Mawa...   \n",
       "\n",
       "                                   masked                         redacted  \n",
       "0    Halo gan, hubungi saya di <PHONE>ya!   Halo gan, hubungi saya di  ya!  \n",
       "1         Barangnya BAAAguuusss banget!!!  Barangnya BAAAguuusss banget!!!  \n",
       "2  Email saya: <EMAIL>, alamat: <ADDRESS>         Email saya:  , alamat:    "
      ]
     },
     "execution_count": 21,
     "metadata": {},
     "output_type": "execute_result"
    }
   ],
   "source": [
    "# Section 13 — User Brush (PII): mask or remove sensitive info\n",
    "from leksara import user_brush as ub\n",
    "\n",
    "# Create masked and fully redacted variants\n",
    "df_ub = df.copy()\n",
    "df_ub['masked'] = df_ub['chat_message'].map(\n",
    "    lambda t: ub.replace_phone(ub.replace_email(ub.replace_address(ub.replace_id(t))))\n",
    ")\n",
    "df_ub['redacted'] = df_ub['chat_message'].map(\n",
    "    lambda t: ub.remove_phone(ub.remove_email(ub.remove_address(ub.remove_id(t))))\n",
    ")\n",
    "df_ub[['chat_id', 'chat_message', 'masked', 'redacted']]"
   ]
  },
  {
   "cell_type": "code",
   "execution_count": 22,
   "id": "969438a0",
   "metadata": {},
   "outputs": [
    {
     "data": {
      "application/vnd.microsoft.datawrangler.viewer.v0+json": {
       "columns": [
        {
         "name": "index",
         "rawType": "int64",
         "type": "integer"
        },
        {
         "name": "input",
         "rawType": "object",
         "type": "string"
        },
        {
         "name": "rating",
         "rawType": "object",
         "type": "string"
        },
        {
         "name": "short",
         "rawType": "object",
         "type": "string"
        },
        {
         "name": "acronym",
         "rawType": "object",
         "type": "string"
        },
        {
         "name": "slang",
         "rawType": "object",
         "type": "string"
        },
        {
         "name": "contract",
         "rawType": "object",
         "type": "string"
        },
        {
         "name": "stem",
         "rawType": "object",
         "type": "string"
        }
       ],
       "ref": "166585ff-2c2d-4f68-b32f-226b982f35a3",
       "rows": [
        [
         "0",
         "BINTANG 5 nih, barangnya BAAAguuusss bgtu!!!",
         "rating_5 nih, barangnya BAAAguuusss bgtu!!!",
         "rating_5 nih, barangnya BAgus bgtu!!!",
         "rating_5 nih, barangnya BAgus bgtu!!!",
         "rating_5 nih, barangnya BAgus begitu!!!",
         "rating_5 nih, barangnya BAgus begitu!!!",
         "rating  5 nih  barang bagus begitu   "
        ],
        [
         "1",
         "CS ramah, tp OTS gak bisa. COD boleh?",
         "CS ramah, tp OTS gak bisa. COD boleh?",
         "CS ramah, tp OTS gak bisa. COD boleh?",
         "customer service ramah, tp on the spot gak bisa. bayar di tempat boleh?",
         "customer service ramah, tapi on the spot gak bisa. bayar di tempat boleh?",
         "customer service ramah, tapi on the spot tidak bisa. bayar di tempat boleh?",
         "customer service ramah  tapi on the spot tidak bisa  bayar di tempat boleh "
        ]
       ],
       "shape": {
        "columns": 7,
        "rows": 2
       }
      },
      "text/html": [
       "<div>\n",
       "<style scoped>\n",
       "    .dataframe tbody tr th:only-of-type {\n",
       "        vertical-align: middle;\n",
       "    }\n",
       "\n",
       "    .dataframe tbody tr th {\n",
       "        vertical-align: top;\n",
       "    }\n",
       "\n",
       "    .dataframe thead th {\n",
       "        text-align: right;\n",
       "    }\n",
       "</style>\n",
       "<table border=\"1\" class=\"dataframe\">\n",
       "  <thead>\n",
       "    <tr style=\"text-align: right;\">\n",
       "      <th></th>\n",
       "      <th>input</th>\n",
       "      <th>rating</th>\n",
       "      <th>short</th>\n",
       "      <th>acronym</th>\n",
       "      <th>slang</th>\n",
       "      <th>contract</th>\n",
       "      <th>stem</th>\n",
       "    </tr>\n",
       "  </thead>\n",
       "  <tbody>\n",
       "    <tr>\n",
       "      <th>0</th>\n",
       "      <td>BINTANG 5 nih, barangnya BAAAguuusss bgtu!!!</td>\n",
       "      <td>rating_5 nih, barangnya BAAAguuusss bgtu!!!</td>\n",
       "      <td>rating_5 nih, barangnya BAgus bgtu!!!</td>\n",
       "      <td>rating_5 nih, barangnya BAgus bgtu!!!</td>\n",
       "      <td>rating_5 nih, barangnya BAgus begitu!!!</td>\n",
       "      <td>rating_5 nih, barangnya BAgus begitu!!!</td>\n",
       "      <td>rating  5 nih  barang bagus begitu</td>\n",
       "    </tr>\n",
       "    <tr>\n",
       "      <th>1</th>\n",
       "      <td>CS ramah, tp OTS gak bisa. COD boleh?</td>\n",
       "      <td>CS ramah, tp OTS gak bisa. COD boleh?</td>\n",
       "      <td>CS ramah, tp OTS gak bisa. COD boleh?</td>\n",
       "      <td>customer service ramah, tp on the spot gak bis...</td>\n",
       "      <td>customer service ramah, tapi on the spot gak b...</td>\n",
       "      <td>customer service ramah, tapi on the spot tidak...</td>\n",
       "      <td>customer service ramah  tapi on the spot tidak...</td>\n",
       "    </tr>\n",
       "  </tbody>\n",
       "</table>\n",
       "</div>"
      ],
      "text/plain": [
       "                                          input  \\\n",
       "0  BINTANG 5 nih, barangnya BAAAguuusss bgtu!!!   \n",
       "1         CS ramah, tp OTS gak bisa. COD boleh?   \n",
       "\n",
       "                                        rating  \\\n",
       "0  rating_5 nih, barangnya BAAAguuusss bgtu!!!   \n",
       "1        CS ramah, tp OTS gak bisa. COD boleh?   \n",
       "\n",
       "                                   short  \\\n",
       "0  rating_5 nih, barangnya BAgus bgtu!!!   \n",
       "1  CS ramah, tp OTS gak bisa. COD boleh?   \n",
       "\n",
       "                                             acronym  \\\n",
       "0              rating_5 nih, barangnya BAgus bgtu!!!   \n",
       "1  customer service ramah, tp on the spot gak bis...   \n",
       "\n",
       "                                               slang  \\\n",
       "0            rating_5 nih, barangnya BAgus begitu!!!   \n",
       "1  customer service ramah, tapi on the spot gak b...   \n",
       "\n",
       "                                            contract  \\\n",
       "0            rating_5 nih, barangnya BAgus begitu!!!   \n",
       "1  customer service ramah, tapi on the spot tidak...   \n",
       "\n",
       "                                                stem  \n",
       "0              rating  5 nih  barang bagus begitu     \n",
       "1  customer service ramah  tapi on the spot tidak...  "
      ]
     },
     "execution_count": 22,
     "metadata": {},
     "output_type": "execute_result"
    }
   ],
   "source": [
    "# Section 14 — Review Miner: normalize ratings, elongations, acronyms, slangs, contractions, and stemming\n",
    "from leksara import review_miner as rm\n",
    "from importlib.resources import files\n",
    "import json\n",
    "\n",
    "# Load built-in maps (acronyms, slangs)\n",
    "acronyms = json.loads(files('leksara.functions.data').joinpath('acronyms.json').read_text(encoding='utf-8'))\n",
    "slang_map = json.loads(files('leksara.functions.data').joinpath('slang_map.json').read_text(encoding='utf-8'))\n",
    "\n",
    "examples = pd.Series([\n",
    "    'BINTANG 5 nih, barangnya BAAAguuusss bgtu!!!',\n",
    "    'CS ramah, tp OTS gak bisa. COD boleh?',\n",
    "])\n",
    "\n",
    "step1 = examples.map(rm.replace_rating)\n",
    "step2 = step1.map(rm.shorten_elongation)\n",
    "step3 = step2.map(lambda t: rm.replace_acronym(t, acronyms))\n",
    "step4 = step3.map(lambda t: rm.normalize_slangs(t, slang_map))\n",
    "step5 = step4.map(lambda t: rm.expand_contraction(t, {\"gak\": \"tidak\", \"nggak\": \"tidak\"}))\n",
    "step6 = step5.map(lambda t: rm.normalize_word(t))\n",
    "\n",
    "pd.DataFrame({'input': examples, 'rating': step1, 'short': step2, 'acronym': step3, 'slang': step4, 'contract': step5, 'stem': step6})"
   ]
  },
  {
   "cell_type": "code",
   "execution_count": 26,
   "id": "a3dacef4",
   "metadata": {},
   "outputs": [
    {
     "name": "stdout",
     "output_type": "stream",
     "text": [
      "Jumlah stopwords ID: 237\n",
      "Contoh: ['adalah', 'agar', 'aja', 'akan', 'akhirnya', 'aku', 'anda', 'andai', 'andaikan', 'ane', 'antar', 'antara']\n"
     ]
    },
    {
     "data": {
      "application/vnd.microsoft.datawrangler.viewer.v0+json": {
       "columns": [
        {
         "name": "index",
         "rawType": "int64",
         "type": "integer"
        },
        {
         "name": "input",
         "rawType": "object",
         "type": "string"
        },
        {
         "name": "no_sw",
         "rawType": "object",
         "type": "string"
        },
        {
         "name": "no_sw_wl",
         "rawType": "object",
         "type": "string"
        },
        {
         "name": "no_sw_pipe",
         "rawType": "object",
         "type": "string"
        }
       ],
       "ref": "76a85f22-de63-4600-89b3-de082b8f5d1f",
       "rows": [
        [
         "0",
         "Ini adalah produk yang sangat bagus dan berkualitas",
         "produksangatbagusberkualitas",
         "produkyangbagusberkualitas",
         "produksangatbagusberkualitas"
        ],
        [
         "1",
         "Barang ini tidak sesuai dengan yang diharapkan",
         "Barangsesuaidiharapkan",
         "Barangsesuaidenganyangdiharapkan",
         "barangsesuaidiharapkan"
        ],
        [
         "2",
         "Kualitasnya bagus tapi pengiriman lama",
         "Kualitasnyabaguspengirimanlama",
         "Kualitasnyabaguspengirimanlama",
         "kualitasnyabaguspengirimanlama"
        ]
       ],
       "shape": {
        "columns": 4,
        "rows": 3
       }
      },
      "text/html": [
       "<div>\n",
       "<style scoped>\n",
       "    .dataframe tbody tr th:only-of-type {\n",
       "        vertical-align: middle;\n",
       "    }\n",
       "\n",
       "    .dataframe tbody tr th {\n",
       "        vertical-align: top;\n",
       "    }\n",
       "\n",
       "    .dataframe thead th {\n",
       "        text-align: right;\n",
       "    }\n",
       "</style>\n",
       "<table border=\"1\" class=\"dataframe\">\n",
       "  <thead>\n",
       "    <tr style=\"text-align: right;\">\n",
       "      <th></th>\n",
       "      <th>input</th>\n",
       "      <th>no_sw</th>\n",
       "      <th>no_sw_wl</th>\n",
       "      <th>no_sw_pipe</th>\n",
       "    </tr>\n",
       "  </thead>\n",
       "  <tbody>\n",
       "    <tr>\n",
       "      <th>0</th>\n",
       "      <td>Ini adalah produk yang sangat bagus dan berkua...</td>\n",
       "      <td>produksangatbagusberkualitas</td>\n",
       "      <td>produkyangbagusberkualitas</td>\n",
       "      <td>produksangatbagusberkualitas</td>\n",
       "    </tr>\n",
       "    <tr>\n",
       "      <th>1</th>\n",
       "      <td>Barang ini tidak sesuai dengan yang diharapkan</td>\n",
       "      <td>Barangsesuaidiharapkan</td>\n",
       "      <td>Barangsesuaidenganyangdiharapkan</td>\n",
       "      <td>barangsesuaidiharapkan</td>\n",
       "    </tr>\n",
       "    <tr>\n",
       "      <th>2</th>\n",
       "      <td>Kualitasnya bagus tapi pengiriman lama</td>\n",
       "      <td>Kualitasnyabaguspengirimanlama</td>\n",
       "      <td>Kualitasnyabaguspengirimanlama</td>\n",
       "      <td>kualitasnyabaguspengirimanlama</td>\n",
       "    </tr>\n",
       "  </tbody>\n",
       "</table>\n",
       "</div>"
      ],
      "text/plain": [
       "                                               input  \\\n",
       "0  Ini adalah produk yang sangat bagus dan berkua...   \n",
       "1     Barang ini tidak sesuai dengan yang diharapkan   \n",
       "2             Kualitasnya bagus tapi pengiriman lama   \n",
       "\n",
       "                            no_sw                          no_sw_wl  \\\n",
       "0    produksangatbagusberkualitas        produkyangbagusberkualitas   \n",
       "1          Barangsesuaidiharapkan  Barangsesuaidenganyangdiharapkan   \n",
       "2  Kualitasnyabaguspengirimanlama    Kualitasnyabaguspengirimanlama   \n",
       "\n",
       "                       no_sw_pipe  \n",
       "0    produksangatbagusberkualitas  \n",
       "1          barangsesuaidiharapkan  \n",
       "2  kualitasnyabaguspengirimanlama  "
      ]
     },
     "execution_count": 26,
     "metadata": {},
     "output_type": "execute_result"
    }
   ],
   "source": [
    "# Section 16 — End-to-end Stopwords: built-in list, whitelist, and pipeline integration\n",
    "import importlib, leksara.functions.stopwords as _sw_mod\n",
    "importlib.reload(_sw_mod)\n",
    "from leksara.functions.stopwords import remove_stopwords_id, load_id_stopwords\n",
    "from leksara import leksara as run_pipeline\n",
    "from leksara.patterns import TO_LOWER\n",
    "\n",
    "# Show built-in size and a preview\n",
    "id_sw = load_id_stopwords()\n",
    "print('Jumlah stopwords ID:', len(id_sw))\n",
    "print('Contoh:', sorted(list(id_sw))[:12])\n",
    "\n",
    "reviews = pd.Series([\n",
    "    'Ini adalah produk yang sangat bagus dan berkualitas',\n",
    "    'Barang ini tidak sesuai dengan yang diharapkan',\n",
    "    'Kualitasnya bagus tapi pengiriman lama',\n",
    "])\n",
    "\n",
    "# 1) Basic removal using built-in list\n",
    "no_sw = reviews.map(lambda t: remove_stopwords_id(t))\n",
    "\n",
    "# 2) With whitelist (keep certain tokens) and extra words\n",
    "no_sw_wl = reviews.map(lambda t: remove_stopwords_id(t, whitelist={'yang', 'dengan'}, extra={'sangat'}))\n",
    "\n",
    "# 3) Integrate in a custom pipeline after lowercasing\n",
    "from functools import partial\n",
    "rm_id = partial(remove_stopwords_id, whitelist=None)\n",
    "pipe = {\n",
    "    'patterns': [],\n",
    "    'functions': [TO_LOWER, rm_id],\n",
    "}\n",
    "no_sw_pipe = run_pipeline(reviews, pipeline=pipe)\n",
    "\n",
    "pd.DataFrame({\n",
    "    'input': reviews,\n",
    "    'no_sw': no_sw,\n",
    "    'no_sw_wl': no_sw_wl,\n",
    "    'no_sw_pipe': no_sw_pipe,\n",
    "})"
   ]
  },
  {
   "cell_type": "markdown",
   "id": "88f13922",
   "metadata": {},
   "source": [
    "## Section 16A — Satu-panggilan: gaya clean[df] untuk banyak versi hasil"
   ]
  },
  {
   "cell_type": "code",
   "execution_count": 27,
   "id": "0c3aadc9",
   "metadata": {},
   "outputs": [
    {
     "data": {
      "application/vnd.microsoft.datawrangler.viewer.v0+json": {
       "columns": [
        {
         "name": "index",
         "rawType": "int64",
         "type": "integer"
        },
        {
         "name": "chat_id",
         "rawType": "int64",
         "type": "integer"
        },
        {
         "name": "chat_message",
         "rawType": "object",
         "type": "string"
        },
        {
         "name": "lower_ws",
         "rawType": "object",
         "type": "string"
        },
        {
         "name": "lower_ws_no_punct",
         "rawType": "object",
         "type": "string"
        },
        {
         "name": "lower_ws_no_punct_no_digits",
         "rawType": "object",
         "type": "string"
        },
        {
         "name": "lower_ws_no_punct_stopwords",
         "rawType": "object",
         "type": "string"
        },
        {
         "name": "no_stopwords_id",
         "rawType": "object",
         "type": "string"
        }
       ],
       "ref": "c8d6dee9-9028-41d7-af24-5f396bf89360",
       "rows": [
        [
         "0",
         "1",
         "Halo gan, hubungi saya di 0812-3456-7890 ya!",
         "halo gan, hubungi saya di 0812-3456-7890 ya!",
         "halo gan hubungi saya di 0812 3456 7890 ya",
         "halo gan hubungi saya di ya",
         "haloganhubungisaya081234567890ya",
         "Halogan,hubungi0812-3456-7890!"
        ],
        [
         "1",
         "2",
         "Barangnya BAAAguuusss banget!!!",
         "barangnya baaguuss banget!!!",
         "barangnya baaguuss banget",
         "barangnya baaguuss banget",
         "barangnyabaaguussbanget",
         "BarangnyaBAAAguuusssbanget!!!"
        ],
        [
         "2",
         "3",
         "Email saya: test@example.com, alamat: Jl. Mawar No. 12",
         "email saya: test@example.com, alamat: jl. mawar no. 12",
         "email saya test example com alamat jl mawar no 12",
         "email saya test example com alamat jl mawar no",
         "emailsayatestexamplecomalamatjlmawarno12",
         "Email:test@example.com,alamat:Jl.MawarNo.12"
        ]
       ],
       "shape": {
        "columns": 7,
        "rows": 3
       }
      },
      "text/html": [
       "<div>\n",
       "<style scoped>\n",
       "    .dataframe tbody tr th:only-of-type {\n",
       "        vertical-align: middle;\n",
       "    }\n",
       "\n",
       "    .dataframe tbody tr th {\n",
       "        vertical-align: top;\n",
       "    }\n",
       "\n",
       "    .dataframe thead th {\n",
       "        text-align: right;\n",
       "    }\n",
       "</style>\n",
       "<table border=\"1\" class=\"dataframe\">\n",
       "  <thead>\n",
       "    <tr style=\"text-align: right;\">\n",
       "      <th></th>\n",
       "      <th>chat_id</th>\n",
       "      <th>chat_message</th>\n",
       "      <th>lower_ws</th>\n",
       "      <th>lower_ws_no_punct</th>\n",
       "      <th>lower_ws_no_punct_no_digits</th>\n",
       "      <th>lower_ws_no_punct_stopwords</th>\n",
       "      <th>no_stopwords_id</th>\n",
       "    </tr>\n",
       "  </thead>\n",
       "  <tbody>\n",
       "    <tr>\n",
       "      <th>0</th>\n",
       "      <td>1</td>\n",
       "      <td>Halo gan, hubungi saya di 0812-3456-7890 ya!</td>\n",
       "      <td>halo gan, hubungi saya di 0812-3456-7890 ya!</td>\n",
       "      <td>halo gan hubungi saya di 0812 3456 7890 ya</td>\n",
       "      <td>halo gan hubungi saya di ya</td>\n",
       "      <td>haloganhubungisaya081234567890ya</td>\n",
       "      <td>Halogan,hubungi0812-3456-7890!</td>\n",
       "    </tr>\n",
       "    <tr>\n",
       "      <th>1</th>\n",
       "      <td>2</td>\n",
       "      <td>Barangnya BAAAguuusss banget!!!</td>\n",
       "      <td>barangnya baaguuss banget!!!</td>\n",
       "      <td>barangnya baaguuss banget</td>\n",
       "      <td>barangnya baaguuss banget</td>\n",
       "      <td>barangnyabaaguussbanget</td>\n",
       "      <td>BarangnyaBAAAguuusssbanget!!!</td>\n",
       "    </tr>\n",
       "    <tr>\n",
       "      <th>2</th>\n",
       "      <td>3</td>\n",
       "      <td>Email saya: test@example.com, alamat: Jl. Mawa...</td>\n",
       "      <td>email saya: test@example.com, alamat: jl. mawa...</td>\n",
       "      <td>email saya test example com alamat jl mawar no 12</td>\n",
       "      <td>email saya test example com alamat jl mawar no</td>\n",
       "      <td>emailsayatestexamplecomalamatjlmawarno12</td>\n",
       "      <td>Email:test@example.com,alamat:Jl.MawarNo.12</td>\n",
       "    </tr>\n",
       "  </tbody>\n",
       "</table>\n",
       "</div>"
      ],
      "text/plain": [
       "   chat_id                                       chat_message  \\\n",
       "0        1       Halo gan, hubungi saya di 0812-3456-7890 ya!   \n",
       "1        2                    Barangnya BAAAguuusss banget!!!   \n",
       "2        3  Email saya: test@example.com, alamat: Jl. Mawa...   \n",
       "\n",
       "                                            lower_ws  \\\n",
       "0       halo gan, hubungi saya di 0812-3456-7890 ya!   \n",
       "1                       barangnya baaguuss banget!!!   \n",
       "2  email saya: test@example.com, alamat: jl. mawa...   \n",
       "\n",
       "                                   lower_ws_no_punct  \\\n",
       "0         halo gan hubungi saya di 0812 3456 7890 ya   \n",
       "1                          barangnya baaguuss banget   \n",
       "2  email saya test example com alamat jl mawar no 12   \n",
       "\n",
       "                      lower_ws_no_punct_no_digits  \\\n",
       "0                     halo gan hubungi saya di ya   \n",
       "1                       barangnya baaguuss banget   \n",
       "2  email saya test example com alamat jl mawar no   \n",
       "\n",
       "                lower_ws_no_punct_stopwords  \\\n",
       "0          haloganhubungisaya081234567890ya   \n",
       "1                   barangnyabaaguussbanget   \n",
       "2  emailsayatestexamplecomalamatjlmawarno12   \n",
       "\n",
       "                               no_stopwords_id  \n",
       "0               Halogan,hubungi0812-3456-7890!  \n",
       "1                BarangnyaBAAAguuusssbanget!!!  \n",
       "2  Email:test@example.com,alamat:Jl.MawarNo.12  "
      ]
     },
     "execution_count": 27,
     "metadata": {},
     "output_type": "execute_result"
    }
   ],
   "source": [
    "# Build several cleaned variants at once, similar to `clean[df]` idea\n",
    "from leksara import basic_clean\n",
    "from leksara.functions.stopwords import remove_stopwords_id\n",
    "\n",
    "# Source df (re-use earlier df)\n",
    "variants = {}\n",
    "variants['lower_ws'] = basic_clean(df['chat_message'], remove_punct=False, reduce_repeat=True)\n",
    "variants['lower_ws_no_punct'] = basic_clean(df['chat_message'], remove_punct=True, reduce_repeat=True)\n",
    "variants['lower_ws_no_punct_no_digits'] = basic_clean(df['chat_message'], remove_punct=True, remove_digits=True, reduce_repeat=True)\n",
    "variants['lower_ws_no_punct_stopwords'] = basic_clean(df['chat_message'], remove_punct=True, reduce_repeat=True, remove_stopwords=True)\n",
    "\n",
    "# Extra: stopwords using expanded list function\n",
    "import pandas as _pd\n",
    "variants['no_stopwords_id'] = _pd.Series(df['chat_message']).map(remove_stopwords_id)\n",
    "\n",
    "multi = df[['chat_id', 'chat_message']].copy()\n",
    "for k, s in variants.items():\n",
    "    multi[k] = s\n",
    "\n",
    "multi.head()"
   ]
  },
  {
   "cell_type": "markdown",
   "id": "6ceabc28",
   "metadata": {},
   "source": [
    "## Section 16B — Helper: fungsi `clean_variants(series)` untuk keluaran multi-versi sekali jalan"
   ]
  },
  {
   "cell_type": "code",
   "execution_count": 28,
   "id": "587db764",
   "metadata": {},
   "outputs": [
    {
     "data": {
      "application/vnd.microsoft.datawrangler.viewer.v0+json": {
       "columns": [
        {
         "name": "index",
         "rawType": "int64",
         "type": "integer"
        },
        {
         "name": "original",
         "rawType": "object",
         "type": "string"
        },
        {
         "name": "lower_ws",
         "rawType": "object",
         "type": "string"
        },
        {
         "name": "lower_ws_no_punct",
         "rawType": "object",
         "type": "string"
        },
        {
         "name": "lower_ws_no_punct_no_digits",
         "rawType": "object",
         "type": "string"
        },
        {
         "name": "lower_ws_no_punct_stopwords",
         "rawType": "object",
         "type": "string"
        },
        {
         "name": "no_stopwords_id",
         "rawType": "object",
         "type": "string"
        }
       ],
       "ref": "2f5c5840-bcc9-4904-8a1f-c045ae153840",
       "rows": [
        [
         "0",
         "Halo gan, hubungi saya di 0812-3456-7890 ya!",
         "halo gan, hubungi saya di 0812-3456-7890 ya!",
         "halo gan hubungi saya di 0812 3456 7890 ya",
         "halo gan hubungi saya di ya",
         "haloganhubungisaya081234567890ya",
         "Halogan,hubungi0812-3456-7890!"
        ],
        [
         "1",
         "Barangnya BAAAguuusss banget!!!",
         "barangnya baaguuss banget!!!",
         "barangnya baaguuss banget",
         "barangnya baaguuss banget",
         "barangnyabaaguussbanget",
         "BarangnyaBAAAguuusssbanget!!!"
        ],
        [
         "2",
         "Email saya: test@example.com, alamat: Jl. Mawar No. 12",
         "email saya: test@example.com, alamat: jl. mawar no. 12",
         "email saya test example com alamat jl mawar no 12",
         "email saya test example com alamat jl mawar no",
         "emailsayatestexamplecomalamatjlmawarno12",
         "Email:test@example.com,alamat:Jl.MawarNo.12"
        ]
       ],
       "shape": {
        "columns": 6,
        "rows": 3
       }
      },
      "text/html": [
       "<div>\n",
       "<style scoped>\n",
       "    .dataframe tbody tr th:only-of-type {\n",
       "        vertical-align: middle;\n",
       "    }\n",
       "\n",
       "    .dataframe tbody tr th {\n",
       "        vertical-align: top;\n",
       "    }\n",
       "\n",
       "    .dataframe thead th {\n",
       "        text-align: right;\n",
       "    }\n",
       "</style>\n",
       "<table border=\"1\" class=\"dataframe\">\n",
       "  <thead>\n",
       "    <tr style=\"text-align: right;\">\n",
       "      <th></th>\n",
       "      <th>original</th>\n",
       "      <th>lower_ws</th>\n",
       "      <th>lower_ws_no_punct</th>\n",
       "      <th>lower_ws_no_punct_no_digits</th>\n",
       "      <th>lower_ws_no_punct_stopwords</th>\n",
       "      <th>no_stopwords_id</th>\n",
       "    </tr>\n",
       "  </thead>\n",
       "  <tbody>\n",
       "    <tr>\n",
       "      <th>0</th>\n",
       "      <td>Halo gan, hubungi saya di 0812-3456-7890 ya!</td>\n",
       "      <td>halo gan, hubungi saya di 0812-3456-7890 ya!</td>\n",
       "      <td>halo gan hubungi saya di 0812 3456 7890 ya</td>\n",
       "      <td>halo gan hubungi saya di ya</td>\n",
       "      <td>haloganhubungisaya081234567890ya</td>\n",
       "      <td>Halogan,hubungi0812-3456-7890!</td>\n",
       "    </tr>\n",
       "    <tr>\n",
       "      <th>1</th>\n",
       "      <td>Barangnya BAAAguuusss banget!!!</td>\n",
       "      <td>barangnya baaguuss banget!!!</td>\n",
       "      <td>barangnya baaguuss banget</td>\n",
       "      <td>barangnya baaguuss banget</td>\n",
       "      <td>barangnyabaaguussbanget</td>\n",
       "      <td>BarangnyaBAAAguuusssbanget!!!</td>\n",
       "    </tr>\n",
       "    <tr>\n",
       "      <th>2</th>\n",
       "      <td>Email saya: test@example.com, alamat: Jl. Mawa...</td>\n",
       "      <td>email saya: test@example.com, alamat: jl. mawa...</td>\n",
       "      <td>email saya test example com alamat jl mawar no 12</td>\n",
       "      <td>email saya test example com alamat jl mawar no</td>\n",
       "      <td>emailsayatestexamplecomalamatjlmawarno12</td>\n",
       "      <td>Email:test@example.com,alamat:Jl.MawarNo.12</td>\n",
       "    </tr>\n",
       "  </tbody>\n",
       "</table>\n",
       "</div>"
      ],
      "text/plain": [
       "                                            original  \\\n",
       "0       Halo gan, hubungi saya di 0812-3456-7890 ya!   \n",
       "1                    Barangnya BAAAguuusss banget!!!   \n",
       "2  Email saya: test@example.com, alamat: Jl. Mawa...   \n",
       "\n",
       "                                            lower_ws  \\\n",
       "0       halo gan, hubungi saya di 0812-3456-7890 ya!   \n",
       "1                       barangnya baaguuss banget!!!   \n",
       "2  email saya: test@example.com, alamat: jl. mawa...   \n",
       "\n",
       "                                   lower_ws_no_punct  \\\n",
       "0         halo gan hubungi saya di 0812 3456 7890 ya   \n",
       "1                          barangnya baaguuss banget   \n",
       "2  email saya test example com alamat jl mawar no 12   \n",
       "\n",
       "                      lower_ws_no_punct_no_digits  \\\n",
       "0                     halo gan hubungi saya di ya   \n",
       "1                       barangnya baaguuss banget   \n",
       "2  email saya test example com alamat jl mawar no   \n",
       "\n",
       "                lower_ws_no_punct_stopwords  \\\n",
       "0          haloganhubungisaya081234567890ya   \n",
       "1                   barangnyabaaguussbanget   \n",
       "2  emailsayatestexamplecomalamatjlmawarno12   \n",
       "\n",
       "                               no_stopwords_id  \n",
       "0               Halogan,hubungi0812-3456-7890!  \n",
       "1                BarangnyaBAAAguuusssbanget!!!  \n",
       "2  Email:test@example.com,alamat:Jl.MawarNo.12  "
      ]
     },
     "execution_count": 28,
     "metadata": {},
     "output_type": "execute_result"
    }
   ],
   "source": [
    "import pandas as pd\n",
    "from typing import Mapping\n",
    "from leksara import basic_clean\n",
    "from leksara.functions.stopwords import remove_stopwords_id\n",
    "\n",
    "\n",
    "def clean_variants(series: pd.Series) -> pd.DataFrame:\n",
    "    \"\"\"Return multiple cleaned variants of a Series in one call.\"\"\"\n",
    "    out = pd.DataFrame({'original': series})\n",
    "    out['lower_ws'] = basic_clean(series, remove_punct=False, reduce_repeat=True)\n",
    "    out['lower_ws_no_punct'] = basic_clean(series, remove_punct=True, reduce_repeat=True)\n",
    "    out['lower_ws_no_punct_no_digits'] = basic_clean(series, remove_punct=True, remove_digits=True, reduce_repeat=True)\n",
    "    out['lower_ws_no_punct_stopwords'] = basic_clean(series, remove_punct=True, reduce_repeat=True, remove_stopwords=True)\n",
    "    out['no_stopwords_id'] = series.map(remove_stopwords_id)\n",
    "    return out\n",
    "\n",
    "clean_variants(df['chat_message']).head()"
   ]
  },
  {
   "cell_type": "code",
   "execution_count": null,
   "id": "ba5ee511",
   "metadata": {},
   "outputs": [],
   "source": [
    "# Section 13 — User Brush (PII): mask or remove sensitive info\n",
    "from leksara import user_brush as ub\n",
    "\n",
    "# Create masked and fully redacted variants\n",
    "df_ub = df.copy()\n",
    "df_ub['masked'] = df_ub['chat_message'].map(\n",
    "    lambda t: ub.replace_phone(ub.replace_email(ub.replace_address(ub.replace_id(t))))\n",
    ")\n",
    "df_ub['redacted'] = df_ub['chat_message'].map(\n",
    "    lambda t: ub.remove_phone(ub.remove_email(ub.remove_address(ub.remove_id(t))))\n",
    ")\n",
    "df_ub[['chat_id', 'chat_message', 'masked', 'redacted']]"
   ]
  },
  {
   "cell_type": "code",
   "execution_count": null,
   "id": "849337f3",
   "metadata": {},
   "outputs": [],
   "source": [
    "from Leksara import user_brush\n",
    "from Leksara.functions import user_brush import to_lowercase\n",
    "from Leksara.patterns import user_brush import replace_phone\n",
    "\n",
    "custom_pipeline = {\n",
    "             ‘patterns’: [replace_phone], # buat sensor nomor telepon\n",
    "             ‘functions’: [to_lowercase] # hanya fungsi ini saja yang spesifik dia pakai buat datanya\n",
    "}\n",
    "\n",
    "df[‘safe_message’] = Leksara(df[‘chat_message’], pipeline=custom_pipeline)\n",
    "\n",
    "print(df[[‘chat_id’, ‘safe_message’]])"
   ]
  },
  {
   "cell_type": "code",
   "execution_count": 34,
   "id": "1dd71f4e",
   "metadata": {},
   "outputs": [
    {
     "name": "stdout",
     "output_type": "stream",
     "text": [
      "   chat_id                                       safe_message\n",
      "0        1               halo gan, hubungi saya di <phone>ya!\n",
      "1        2                    barangnya baaaguuusss banget!!!\n",
      "2        3  email saya: test@example.com, alamat: jl. mawa...\n"
     ]
    }
   ],
   "source": [
    "# Demo: Pemakaian sederhana (CamelCase-style)\n",
    "from leksara import user_brush\n",
    "from leksara.functions import to_lowercase\n",
    "from leksara.patterns import MASK_PHONE as replace_phone\n",
    "\n",
    "custom_pipeline = {\n",
    "    'patterns': [replace_phone],  # sensor nomor telepon\n",
    "    'functions': [to_lowercase],  # fungsi spesifik yang dipakai\n",
    "}\n",
    "\n",
    "df['safe_message'] = leksara(df['chat_message'], pipeline=custom_pipeline)\n",
    "print(df[['chat_id', 'safe_message']])"
   ]
  }
 ],
 "metadata": {
  "kernelspec": {
   "display_name": "leksara",
   "language": "python",
   "name": "python3"
  },
  "language_info": {
   "codemirror_mode": {
    "name": "ipython",
    "version": 3
   },
   "file_extension": ".py",
   "mimetype": "text/x-python",
   "name": "python",
   "nbconvert_exporter": "python",
   "pygments_lexer": "ipython3",
   "version": "3.11.13"
  }
 },
 "nbformat": 4,
 "nbformat_minor": 5
}
