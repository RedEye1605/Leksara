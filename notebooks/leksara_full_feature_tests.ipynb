{
 "cells": [
  {
   "cell_type": "markdown",
   "id": "f2a2eea1",
   "metadata": {},
   "source": [
    "# Leksara Black-Box Feature Validation Notebook\n",
    "This notebook exercises the Leksara public APIs exactly as an end-user would, covering ingestion dashboards, cleaning primitives, redaction helpers, review normalisation, presets, benchmarking, runtime customisations, and logging hooks."
   ]
  },
  {
   "cell_type": "markdown",
   "id": "91d4857f",
   "metadata": {},
   "source": [
    "## How to use this notebook\n",
    "1. Ensure Leksara and its optional dependencies (`regex`, `emoji`, `Sastrawi`, `pandas`) are installed in your environment.\n",
    "2. Execute the cells in order. Outputs are intentionally verbose so you can visually confirm behaviour without digging into implementation details.\n",
    "3. Treat each section as a standalone scenario you can adapt for your own datasets or pipelines."
   ]
  },
  {
   "cell_type": "code",
   "execution_count": null,
   "id": "3266d413",
   "metadata": {},
   "outputs": [],
   "source": [
    "# Core imports for the feature tour\n",
    "import json\n",
    "from pathlib import Path\n",
    "\n",
    "import pandas as pd\n",
    "\n",
    "from leksara import leksara, ReviewChain, get_preset\n",
    "from leksara.frames.cartboard import CartBoard, get_flags, get_stats, noise_detect\n",
    "from leksara.function import (\n",
    "    remove_tags,\n",
    "    case_normal,\n",
    "    remove_stopwords,\n",
    "    remove_whitespace,\n",
    "    remove_punctuation,\n",
    "    remove_digits,\n",
    "    remove_emoji,\n",
    "    replace_url,\n",
    "    replace_rating,\n",
    "    shorten_elongation,\n",
    "    replace_acronym,\n",
    "    normalize_slangs,\n",
    "    expand_contraction,\n",
    "    word_normalization,\n",
    " )\n",
    "from leksara.pattern import (\n",
    "    replace_phone,\n",
    "    replace_address,\n",
    "    replace_email,\n",
    "    replace_id,\n",
    " )\n",
    "from leksara.core.logging import setup_logging, log_pipeline_step"
   ]
  },
  {
   "cell_type": "markdown",
   "id": "73affa8b",
   "metadata": {},
   "source": [
    "## 1. Quick health check with CartBoard dashboards"
   ]
  },
  {
   "cell_type": "code",
   "execution_count": 19,
   "id": "4bd354d5",
   "metadata": {},
   "outputs": [
    {
     "data": {
      "application/vnd.microsoft.datawrangler.viewer.v0+json": {
       "columns": [
        {
         "name": "index",
         "rawType": "int64",
         "type": "integer"
        },
        {
         "name": "review_id",
         "rawType": "int64",
         "type": "integer"
        },
        {
         "name": "pii_flag",
         "rawType": "bool",
         "type": "boolean"
        },
        {
         "name": "rating_flag",
         "rawType": "bool",
         "type": "boolean"
        },
        {
         "name": "non_alphabetical_flag",
         "rawType": "bool",
         "type": "boolean"
        }
       ],
       "ref": "14320525-86f6-43f3-87a1-74d67066d1af",
       "rows": [
        [
         "0",
         "101",
         "True",
         "True",
         "True"
        ],
        [
         "1",
         "102",
         "True",
         "False",
         "False"
        ],
        [
         "2",
         "103",
         "False",
         "False",
         "False"
        ]
       ],
       "shape": {
        "columns": 4,
        "rows": 3
       }
      },
      "text/html": [
       "<div>\n",
       "<style scoped>\n",
       "    .dataframe tbody tr th:only-of-type {\n",
       "        vertical-align: middle;\n",
       "    }\n",
       "\n",
       "    .dataframe tbody tr th {\n",
       "        vertical-align: top;\n",
       "    }\n",
       "\n",
       "    .dataframe thead th {\n",
       "        text-align: right;\n",
       "    }\n",
       "</style>\n",
       "<table border=\"1\" class=\"dataframe\">\n",
       "  <thead>\n",
       "    <tr style=\"text-align: right;\">\n",
       "      <th></th>\n",
       "      <th>review_id</th>\n",
       "      <th>pii_flag</th>\n",
       "      <th>rating_flag</th>\n",
       "      <th>non_alphabetical_flag</th>\n",
       "    </tr>\n",
       "  </thead>\n",
       "  <tbody>\n",
       "    <tr>\n",
       "      <th>0</th>\n",
       "      <td>101</td>\n",
       "      <td>True</td>\n",
       "      <td>True</td>\n",
       "      <td>True</td>\n",
       "    </tr>\n",
       "    <tr>\n",
       "      <th>1</th>\n",
       "      <td>102</td>\n",
       "      <td>True</td>\n",
       "      <td>False</td>\n",
       "      <td>False</td>\n",
       "    </tr>\n",
       "    <tr>\n",
       "      <th>2</th>\n",
       "      <td>103</td>\n",
       "      <td>False</td>\n",
       "      <td>False</td>\n",
       "      <td>False</td>\n",
       "    </tr>\n",
       "  </tbody>\n",
       "</table>\n",
       "</div>"
      ],
      "text/plain": [
       "   review_id  pii_flag  rating_flag  non_alphabetical_flag\n",
       "0        101      True         True                   True\n",
       "1        102      True        False                  False\n",
       "2        103     False        False                  False"
      ]
     },
     "metadata": {},
     "output_type": "display_data"
    },
    {
     "data": {
      "application/vnd.microsoft.datawrangler.viewer.v0+json": {
       "columns": [
        {
         "name": "index",
         "rawType": "int64",
         "type": "integer"
        },
        {
         "name": "review_id",
         "rawType": "int64",
         "type": "integer"
        },
        {
         "name": "stats",
         "rawType": "object",
         "type": "unknown"
        }
       ],
       "ref": "d53f5634-aa36-4a82-ba38-e9d7d8628eef",
       "rows": [
        [
         "0",
         "101",
         "{'length': 46, 'word_count': 6, 'stopwords': 0, 'punctuations': 6, 'symbols': 0, 'emojis': 1, 'noise_count': 2, 'urls': [], 'html_tags': [], 'emails': ['user@example.com'], 'phones': [], 'phones_normalized': [], 'emoji_list': ['⭐']}"
        ],
        [
         "1",
         "102",
         "{'length': 50, 'word_count': 4, 'stopwords': 1, 'punctuations': 4, 'symbols': 12, 'emojis': 0, 'noise_count': 1, 'urls': [], 'html_tags': [], 'emails': [], 'phones': ['0812-3456-7890'], 'phones_normalized': ['081234567890'], 'emoji_list': []}"
        ],
        [
         "2",
         "103",
         "{'length': 61, 'word_count': 10, 'stopwords': 1, 'punctuations': 4, 'symbols': 5, 'emojis': 0, 'noise_count': 0, 'urls': [], 'html_tags': [], 'emails': [], 'phones': [], 'phones_normalized': [], 'emoji_list': []}"
        ]
       ],
       "shape": {
        "columns": 2,
        "rows": 3
       }
      },
      "text/html": [
       "<div>\n",
       "<style scoped>\n",
       "    .dataframe tbody tr th:only-of-type {\n",
       "        vertical-align: middle;\n",
       "    }\n",
       "\n",
       "    .dataframe tbody tr th {\n",
       "        vertical-align: top;\n",
       "    }\n",
       "\n",
       "    .dataframe thead th {\n",
       "        text-align: right;\n",
       "    }\n",
       "</style>\n",
       "<table border=\"1\" class=\"dataframe\">\n",
       "  <thead>\n",
       "    <tr style=\"text-align: right;\">\n",
       "      <th></th>\n",
       "      <th>review_id</th>\n",
       "      <th>stats</th>\n",
       "    </tr>\n",
       "  </thead>\n",
       "  <tbody>\n",
       "    <tr>\n",
       "      <th>0</th>\n",
       "      <td>101</td>\n",
       "      <td>{'length': 46, 'word_count': 6, 'stopwords': 0...</td>\n",
       "    </tr>\n",
       "    <tr>\n",
       "      <th>1</th>\n",
       "      <td>102</td>\n",
       "      <td>{'length': 50, 'word_count': 4, 'stopwords': 1...</td>\n",
       "    </tr>\n",
       "    <tr>\n",
       "      <th>2</th>\n",
       "      <td>103</td>\n",
       "      <td>{'length': 61, 'word_count': 10, 'stopwords': ...</td>\n",
       "    </tr>\n",
       "  </tbody>\n",
       "</table>\n",
       "</div>"
      ],
      "text/plain": [
       "   review_id                                              stats\n",
       "0        101  {'length': 46, 'word_count': 6, 'stopwords': 0...\n",
       "1        102  {'length': 50, 'word_count': 4, 'stopwords': 1...\n",
       "2        103  {'length': 61, 'word_count': 10, 'stopwords': ..."
      ]
     },
     "metadata": {},
     "output_type": "display_data"
    },
    {
     "data": {
      "application/vnd.microsoft.datawrangler.viewer.v0+json": {
       "columns": [
        {
         "name": "index",
         "rawType": "int64",
         "type": "integer"
        },
        {
         "name": "review_id",
         "rawType": "int64",
         "type": "integer"
        },
        {
         "name": "detect_noise",
         "rawType": "object",
         "type": "unknown"
        }
       ],
       "ref": "cfb7ea80-6538-483e-936f-22220eeceee1",
       "rows": [
        [
         "0",
         "101",
         "{'urls': [], 'html_tags': [], 'emails': ['user@example.com'], 'phones': [], 'emojis': ['⭐']}"
        ],
        [
         "1",
         "102",
         "{'urls': [], 'html_tags': [], 'emails': [], 'phones': ['0812-3456-7890'], 'emojis': []}"
        ],
        [
         "2",
         "103",
         "{'urls': [], 'html_tags': [], 'emails': [], 'phones': [], 'emojis': []}"
        ]
       ],
       "shape": {
        "columns": 2,
        "rows": 3
       }
      },
      "text/html": [
       "<div>\n",
       "<style scoped>\n",
       "    .dataframe tbody tr th:only-of-type {\n",
       "        vertical-align: middle;\n",
       "    }\n",
       "\n",
       "    .dataframe tbody tr th {\n",
       "        vertical-align: top;\n",
       "    }\n",
       "\n",
       "    .dataframe thead th {\n",
       "        text-align: right;\n",
       "    }\n",
       "</style>\n",
       "<table border=\"1\" class=\"dataframe\">\n",
       "  <thead>\n",
       "    <tr style=\"text-align: right;\">\n",
       "      <th></th>\n",
       "      <th>review_id</th>\n",
       "      <th>detect_noise</th>\n",
       "    </tr>\n",
       "  </thead>\n",
       "  <tbody>\n",
       "    <tr>\n",
       "      <th>0</th>\n",
       "      <td>101</td>\n",
       "      <td>{'urls': [], 'html_tags': [], 'emails': ['user...</td>\n",
       "    </tr>\n",
       "    <tr>\n",
       "      <th>1</th>\n",
       "      <td>102</td>\n",
       "      <td>{'urls': [], 'html_tags': [], 'emails': [], 'p...</td>\n",
       "    </tr>\n",
       "    <tr>\n",
       "      <th>2</th>\n",
       "      <td>103</td>\n",
       "      <td>{'urls': [], 'html_tags': [], 'emails': [], 'p...</td>\n",
       "    </tr>\n",
       "  </tbody>\n",
       "</table>\n",
       "</div>"
      ],
      "text/plain": [
       "   review_id                                       detect_noise\n",
       "0        101  {'urls': [], 'html_tags': [], 'emails': ['user...\n",
       "1        102  {'urls': [], 'html_tags': [], 'emails': [], 'p...\n",
       "2        103  {'urls': [], 'html_tags': [], 'emails': [], 'p..."
      ]
     },
     "metadata": {},
     "output_type": "display_data"
    },
    {
     "data": {
      "text/plain": [
       "{'original_text': 'Barang mantul!!! Email: user@example.com ⭐⭐⭐⭐⭐',\n",
       " 'rating': 5,\n",
       " 'pii_flag': True,\n",
       " 'non_alphabetical_flag': True}"
      ]
     },
     "execution_count": 19,
     "metadata": {},
     "output_type": "execute_result"
    }
   ],
   "source": [
    "# Sample dataset mirroring Indonesian marketplace reviews\n",
    "raw_reviews = pd.DataFrame(\n",
    "    {\n",
    "        \"review_id\": [101, 102, 103],\n",
    "        \"channel\": [\"Tokopedia\", \"Shopee\", \"WhatsApp\"],\n",
    "        \"text\": [\n",
    "            \"Barang mantul!!! Email: user@example.com ⭐⭐⭐⭐⭐\",\n",
    "            \"Pengiriman lambat :( Hubungi 0812-3456-7890 segera\",\n",
    "            \"Halo admin, alamat saya Jl. Melati No. 8 RT 02 RW 04, Bandung\",\n",
    "        ],\n",
    "    }\n",
    ")\n",
    "\n",
    "cartboard_flags = get_flags(raw_reviews, text_column=\"text\")\n",
    "cartboard_stats = get_stats(raw_reviews, text_column=\"text\")\n",
    "cartboard_noise = noise_detect(raw_reviews, text_column=\"text\", include_normalized=False)\n",
    "\n",
    "display(cartboard_flags[[\"review_id\", \"pii_flag\", \"rating_flag\", \"non_alphabetical_flag\"]])\n",
    "display(cartboard_stats[[\"review_id\", \"stats\"]])\n",
    "display(cartboard_noise[[\"review_id\", \"detect_noise\"]])\n",
    "\n",
    "single_card = CartBoard(raw_text=raw_reviews.loc[0, \"text\"], rating=5)\n",
    "single_card.to_dict()"
   ]
  },
  {
   "cell_type": "markdown",
   "id": "5406e9ba",
   "metadata": {},
   "source": [
    "## 2. Exercising cleaning primitives as standalone helpers"
   ]
  },
  {
   "cell_type": "code",
   "execution_count": 20,
   "id": "cbac08a6",
   "metadata": {},
   "outputs": [
    {
     "name": "stdout",
     "output_type": "stream",
     "text": [
      "Original: <p>MANTUULLL banget! Promo di https://shop.id, email cs@shop.id 😍😍</p>\n",
      "Cleaned: mantuulll banget promo URL email csURL suka banget suka banget\n"
     ]
    }
   ],
   "source": [
    "sample_text = \"<p>MANTUULLL banget! Promo di https://shop.id, email cs@shop.id 😍😍</p>\"\n",
    "\n",
    "step_html = remove_tags(sample_text)\n",
    "step_case = case_normal(step_html)\n",
    "step_url = replace_url(step_case, mode=\"replace\")\n",
    "step_emoji = remove_emoji(step_url, mode=\"replace\")\n",
    "step_stopwords = remove_stopwords(step_emoji)\n",
    "step_punct = remove_punctuation(step_stopwords)\n",
    "step_whitespace = remove_whitespace(step_punct)\n",
    "\n",
    "print(\"Original:\", sample_text)\n",
    "print(\"Cleaned:\", step_whitespace)"
   ]
  },
  {
   "cell_type": "markdown",
   "id": "bbb652b7",
   "metadata": {},
   "source": [
    "## 3. Validating PII masking helpers"
   ]
  },
  {
   "cell_type": "code",
   "execution_count": 21,
   "id": "76b7b44e",
   "metadata": {},
   "outputs": [
    {
     "name": "stdout",
     "output_type": "stream",
     "text": [
      "Hubungi saya di [PHONE_NUMBER] atau email [EMAIL]. Alamat: [ADDRESS]. NIK [NIK]\n"
     ]
    }
   ],
   "source": [
    "pii_sample = (\"Hubungi saya di 0812 9876 5432 atau email rani+vip@contoh.co.id. \"\n",
    "             \"Alamat: Jl. Kenanga No. 5 RT 03 RW 09, Jakarta. NIK 3276120705010003 \")\n",
    "\n",
    "masked = replace_id(pii_sample, mode='replace')\n",
    "masked = replace_phone(masked, mode=\"replace\")\n",
    "masked = replace_email(masked, mode=\"replace\")\n",
    "masked = replace_address(masked, mode=\"replace\")\n",
    "\n",
    "print(masked)"
   ]
  },
  {
   "cell_type": "markdown",
   "id": "aab5c76e",
   "metadata": {},
   "source": [
    "## 4. Review normalisation workflow"
   ]
  },
  {
   "cell_type": "code",
   "execution_count": 22,
   "id": "b87a30e1",
   "metadata": {},
   "outputs": [
    {
     "name": "stdout",
     "output_type": "stream",
     "text": [
      "Original: Mantuuul ⭐⭐⭐⭐⭐ abis, cs nya grg bgt tp overall 4/5 kok!\n",
      "Normalised: mantuul 5 0 abis cs nya grg bgt tapi overall 4 0 kok\n"
     ]
    }
   ],
   "source": [
    "review_text = \"Mantuuul ⭐⭐⭐⭐⭐ abis, cs nya grg bgt tp overall 4/5 kok!\"\n",
    "\n",
    "normalized = replace_rating(review_text)\n",
    "normalized = shorten_elongation(normalized, max_repeat=2)\n",
    "normalized = normalize_slangs(normalized, mode=\"replace\")\n",
    "normalized = replace_acronym(normalized, mode=\"replace\")\n",
    "normalized = expand_contraction(normalized)\n",
    "normalized = word_normalization(normalized, method=\"stem\", mode=\"keep\")\n",
    "\n",
    "print(\"Original:\", review_text)\n",
    "print(\"Normalised:\", normalized)"
   ]
  },
  {
   "cell_type": "markdown",
   "id": "efda1c0e",
   "metadata": {},
   "source": [
    "## 5. Running preset and custom pipelines with benchmarking"
   ]
  },
  {
   "cell_type": "code",
   "execution_count": 23,
   "id": "f8244cf0",
   "metadata": {},
   "outputs": [
    {
     "data": {
      "application/vnd.microsoft.datawrangler.viewer.v0+json": {
       "columns": [
        {
         "name": "index",
         "rawType": "int64",
         "type": "integer"
        },
        {
         "name": "preset_output",
         "rawType": "object",
         "type": "string"
        },
        {
         "name": "custom_output",
         "rawType": "object",
         "type": "string"
        }
       ],
       "ref": "8095ba88-3534-4113-acdf-8e8c7fc2d1b3",
       "rows": [
        [
         "0",
         "email [EMAIL] rating 5 5 kurir ramah",
         "email [EMAIL] rating kurir ramah"
        ],
        [
         "1",
         "alamat kirim [ADDRESS]",
         "alamat pengiriman jl durian no rt rw bandung"
        ]
       ],
       "shape": {
        "columns": 2,
        "rows": 2
       }
      },
      "text/html": [
       "<div>\n",
       "<style scoped>\n",
       "    .dataframe tbody tr th:only-of-type {\n",
       "        vertical-align: middle;\n",
       "    }\n",
       "\n",
       "    .dataframe tbody tr th {\n",
       "        vertical-align: top;\n",
       "    }\n",
       "\n",
       "    .dataframe thead th {\n",
       "        text-align: right;\n",
       "    }\n",
       "</style>\n",
       "<table border=\"1\" class=\"dataframe\">\n",
       "  <thead>\n",
       "    <tr style=\"text-align: right;\">\n",
       "      <th></th>\n",
       "      <th>preset_output</th>\n",
       "      <th>custom_output</th>\n",
       "    </tr>\n",
       "  </thead>\n",
       "  <tbody>\n",
       "    <tr>\n",
       "      <th>0</th>\n",
       "      <td>email [EMAIL] rating 5 5 kurir ramah</td>\n",
       "      <td>email [EMAIL] rating kurir ramah</td>\n",
       "    </tr>\n",
       "    <tr>\n",
       "      <th>1</th>\n",
       "      <td>alamat kirim [ADDRESS]</td>\n",
       "      <td>alamat pengiriman jl durian no rt rw bandung</td>\n",
       "    </tr>\n",
       "  </tbody>\n",
       "</table>\n",
       "</div>"
      ],
      "text/plain": [
       "                          preset_output  \\\n",
       "0  email [EMAIL] rating 5 5 kurir ramah   \n",
       "1                alamat kirim [ADDRESS]   \n",
       "\n",
       "                                  custom_output  \n",
       "0              email [EMAIL] rating kurir ramah  \n",
       "1  alamat pengiriman jl durian no rt rw bandung  "
      ]
     },
     "metadata": {},
     "output_type": "display_data"
    },
    {
     "name": "stdout",
     "output_type": "stream",
     "text": [
      "Preset timings: {'n_steps': 15, 'total_time_sec': 0.00033039999652828556, 'per_step': [('word_normalization', 7.610000102431513e-05), ('replace_address', 7.379999806289561e-05), ('mask_whitelist', 3.2500000088475645e-05), ('remove_emoji', 2.6399999114801176e-05), ('remove_stopwords', 2.6399999114801176e-05), ('replace_phone', 1.9299999621580355e-05), ('unmask_whitelist', 1.9099999917671084e-05), ('replace_url', 1.1899999663000926e-05), ('remove_punctuation', 1.1300000551273115e-05), ('replace_email', 8.999999408842996e-06), ('shorten_elongation', 6.800000846851617e-06), ('replace_id', 5.899999450775795e-06), ('remove_whitespace', 5.699999746866524e-06), ('remove_tags', 4.19999923906289e-06), ('case_normal', 2.0000006770715117e-06)]}\n",
      "Custom timings: {'n_steps': 10, 'total_time_sec': 0.00019700000484590419, 'per_step': [('replace_rating', 8.800000068731606e-05), ('remove_stopwords', 2.9200000426499173e-05), ('mask_whitelist', 2.200000199081842e-05), ('unmask_whitelist', 1.7200001821038313e-05), ('remove_punctuation', 1.1199999789823778e-05), ('replace_phone', 1.06999996205559e-05), ('replace_email', 6.399999620043673e-06), ('remove_whitespace', 5.600000804406591e-06), ('remove_digits', 5.300000339047983e-06), ('case_normal', 1.3999997463542968e-06)]}\n"
     ]
    }
   ],
   "source": [
    "reviews = pd.Series([\n",
    "    \"Email saya customer@mart.id, rating 5/5, kurir ramah.\",\n",
    "    \"Alamat pengiriman: Jl. Durian No. 3 RT 05 RW 07, Bandung.\",\n",
    "])\n",
    "\n",
    "preset_results, preset_metrics = leksara(reviews, preset=\"ecommerce_review\", benchmark=True)\n",
    "\n",
    "custom_pipeline = {\n",
    "    \"patterns\": [\n",
    "        (replace_phone, {\"mode\": \"replace\"}),\n",
    "        (replace_email, {\"mode\": \"replace\"}),\n",
    "    ],\n",
    "    \"functions\": [\n",
    "        case_normal,\n",
    "        replace_rating,\n",
    "        remove_digits,\n",
    "        remove_stopwords,\n",
    "        remove_punctuation,\n",
    "        remove_whitespace,\n",
    "    ],\n",
    "}\n",
    "\n",
    "chain = ReviewChain.from_steps(**custom_pipeline)\n",
    "chain_results, chain_metrics = chain.transform(reviews, benchmark=True)\n",
    "\n",
    "display(pd.DataFrame({\n",
    "    \"preset_output\": preset_results,\n",
    "    \"custom_output\": chain_results,\n",
    "}))\n",
    "\n",
    "print(\"Preset timings:\", preset_metrics)\n",
    "print(\"Custom timings:\", chain_metrics)"
   ]
  },
  {
   "cell_type": "markdown",
   "id": "d2db2833",
   "metadata": {},
   "source": [
    "## 6. Listing and customising presets"
   ]
  },
  {
   "cell_type": "code",
   "execution_count": 24,
   "id": "dcbdac45",
   "metadata": {},
   "outputs": [
    {
     "name": "stdout",
     "output_type": "stream",
     "text": [
      "Patterns: [(<function replace_phone at 0x0000020045F06A20>, {'mode': 'replace'}), (<function replace_email at 0x0000020045F06D40>, {'mode': 'replace'}), (<function replace_address at 0x0000020045F06CA0>, {'mode': 'replace'}), (<function replace_id at 0x0000020045F06DE0>, {'mode': 'replace'})]\n",
      "Functions: [<function remove_tags at 0x0000020045F06FC0>, <function case_normal at 0x0000020045F07100>, (<function replace_url at 0x0000020045F07420>, {'mode': 'replace'}), (<function remove_emoji at 0x0000020045F074C0>, {'mode': 'replace'}), <function word_normalization at 0x0000020045F82CA0>, <function remove_stopwords at 0x0000020045F071A0>, <function shorten_elongation at 0x0000020045F82840>, <function remove_punctuation at 0x0000020045F07380>, <function remove_whitespace at 0x0000020045F07240>]\n"
     ]
    },
    {
     "data": {
      "application/vnd.microsoft.datawrangler.viewer.v0+json": {
       "columns": [
        {
         "name": "index",
         "rawType": "int64",
         "type": "integer"
        },
        {
         "name": "0",
         "rawType": "object",
         "type": "string"
        }
       ],
       "ref": "fa75f3ff-b11b-4393-94fd-390dcded6fd4",
       "rows": [
        [
         "0",
         "email [EMAIL] rating 5 5 kurir ramah"
        ],
        [
         "1",
         "alamat kirim [ADDRESS]"
        ]
       ],
       "shape": {
        "columns": 1,
        "rows": 2
       }
      },
      "text/plain": [
       "0    email [EMAIL] rating 5 5 kurir ramah\n",
       "1                  alamat kirim [ADDRESS]\n",
       "dtype: object"
      ]
     },
     "execution_count": 24,
     "metadata": {},
     "output_type": "execute_result"
    }
   ],
   "source": [
    "ecommerce_preset = get_preset(\"ecommerce_review\")\n",
    "print(\"Patterns:\", ecommerce_preset[\"patterns\"])\n",
    "print(\"Functions:\", ecommerce_preset[\"functions\"])\n",
    "\n",
    "# Extend preset with additional address masking depth\n",
    "extended = get_preset(\"ecommerce_review\")\n",
    "extended[\"patterns\"].append((replace_address, {\"mode\": \"replace\", \"street\": True, \"city\": True}))\n",
    "extended_results = leksara(reviews, pipeline=extended)\n",
    "extended_results"
   ]
  },
  {
   "cell_type": "markdown",
   "id": "e42c3ef5",
   "metadata": {},
   "source": [
    "## 7. Runtime dictionary tweaks for experimentation"
   ]
  },
  {
   "cell_type": "code",
   "execution_count": 25,
   "id": "468a93e4",
   "metadata": {},
   "outputs": [
    {
     "name": "stdout",
     "output_type": "stream",
     "text": [
      "tingkah msh bingung sama proses garansi\n"
     ]
    }
   ],
   "source": [
    "print(normalize_slangs(\"sokap msh bingung sama proses garansi\"))"
   ]
  }
 ],
 "metadata": {
  "kernelspec": {
   "display_name": "Python 3",
   "language": "python",
   "name": "python3"
  },
  "language_info": {
   "codemirror_mode": {
    "name": "ipython",
    "version": 3
   },
   "file_extension": ".py",
   "mimetype": "text/x-python",
   "name": "python",
   "nbconvert_exporter": "python",
   "pygments_lexer": "ipython3",
   "version": "3.11.13"
  }
 },
 "nbformat": 4,
 "nbformat_minor": 5
}
