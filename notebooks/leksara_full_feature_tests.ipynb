{
 "cells": [
  {
   "cell_type": "markdown",
   "id": "f2a2eea1",
   "metadata": {},
   "source": [
    "# Leksara Black-Box Feature Validation Notebook\n",
    "This notebook exercises the Leksara public APIs exactly as an end-user would, covering ingestion dashboards, cleaning primitives, redaction helpers, review normalisation, presets, benchmarking, runtime customisations, and logging hooks."
   ]
  },
  {
   "cell_type": "markdown",
   "id": "91d4857f",
   "metadata": {},
   "source": [
    "## How to use this notebook\n",
    "1. Ensure Leksara and its optional dependencies (`regex`, `emoji`, `Sastrawi`, `pandas`) are installed in your environment.\n",
    "2. Execute the cells in order. Outputs are intentionally verbose so you can visually confirm behaviour without digging into implementation details.\n",
    "3. Treat each section as a standalone scenario you can adapt for your own datasets or pipelines."
   ]
  },
  {
   "cell_type": "code",
   "execution_count": 1,
   "id": "5adf9816",
   "metadata": {},
   "outputs": [
    {
     "name": "stdout",
     "output_type": "stream",
     "text": [
      "Requirement already satisfied: leksara in c:\\users\\rhendy saragih\\downloads\\kerjaan\\leksara\\.venv\\lib\\site-packages (0.1.2.post1)\n",
      "Requirement already satisfied: pandas>=1.5 in c:\\users\\rhendy saragih\\downloads\\kerjaan\\leksara\\.venv\\lib\\site-packages (from leksara) (2.3.2)\n",
      "Requirement already satisfied: regex>=2022.1.18 in c:\\users\\rhendy saragih\\downloads\\kerjaan\\leksara\\.venv\\lib\\site-packages (from leksara) (2025.9.1)\n",
      "Requirement already satisfied: emoji>=2.0.0 in c:\\users\\rhendy saragih\\downloads\\kerjaan\\leksara\\.venv\\lib\\site-packages (from leksara) (2.14.1)\n",
      "Requirement already satisfied: Sastrawi>=1.0.1 in c:\\users\\rhendy saragih\\downloads\\kerjaan\\leksara\\.venv\\lib\\site-packages (from leksara) (1.0.1)\n",
      "Requirement already satisfied: numpy>=1.23.2 in c:\\users\\rhendy saragih\\downloads\\kerjaan\\leksara\\.venv\\lib\\site-packages (from pandas>=1.5->leksara) (1.26.4)\n",
      "Requirement already satisfied: python-dateutil>=2.8.2 in c:\\users\\rhendy saragih\\downloads\\kerjaan\\leksara\\.venv\\lib\\site-packages (from pandas>=1.5->leksara) (2.9.0.post0)\n",
      "Requirement already satisfied: pytz>=2020.1 in c:\\users\\rhendy saragih\\downloads\\kerjaan\\leksara\\.venv\\lib\\site-packages (from pandas>=1.5->leksara) (2025.2)\n",
      "Requirement already satisfied: tzdata>=2022.7 in c:\\users\\rhendy saragih\\downloads\\kerjaan\\leksara\\.venv\\lib\\site-packages (from pandas>=1.5->leksara) (2025.2)\n",
      "Requirement already satisfied: six>=1.5 in c:\\users\\rhendy saragih\\downloads\\kerjaan\\leksara\\.venv\\lib\\site-packages (from python-dateutil>=2.8.2->pandas>=1.5->leksara) (1.17.0)\n",
      "Note: you may need to restart the kernel to use updated packages.\n"
     ]
    }
   ],
   "source": [
    "pip install leksara"
   ]
  },
  {
   "cell_type": "code",
   "execution_count": 2,
   "id": "3266d413",
   "metadata": {},
   "outputs": [],
   "source": [
    "# Core imports for the feature tour\n",
    "import json\n",
    "from pathlib import Path\n",
    "\n",
    "import pandas as pd\n",
    "\n",
    "from leksara import leksara, ReviewChain, get_preset\n",
    "from leksara.frames.cartboard import CartBoard, get_flags, get_stats, noise_detect\n",
    "from leksara.function import (\n",
    "    remove_tags,\n",
    "    case_normal,\n",
    "    remove_stopwords,\n",
    "    remove_whitespace,\n",
    "    remove_punctuation,\n",
    "    remove_digits,\n",
    "    remove_emoji,\n",
    "    replace_url,\n",
    "    replace_rating,\n",
    "    shorten_elongation,\n",
    "    replace_acronym,\n",
    "    normalize_slangs,\n",
    "    expand_contraction,\n",
    "    word_normalization,\n",
    " )\n",
    "from leksara.pattern import (\n",
    "    replace_phone,\n",
    "    replace_address,\n",
    "    replace_email,\n",
    "    replace_id,\n",
    " )\n",
    "from leksara.core.logging import setup_logging, log_pipeline_step"
   ]
  },
  {
   "cell_type": "markdown",
   "id": "73affa8b",
   "metadata": {},
   "source": [
    "## 1. Quick health check with CartBoard dashboards"
   ]
  },
  {
   "cell_type": "code",
   "execution_count": 3,
   "id": "4bd354d5",
   "metadata": {},
   "outputs": [
    {
     "data": {
      "application/vnd.microsoft.datawrangler.viewer.v0+json": {
       "columns": [
        {
         "name": "index",
         "rawType": "int64",
         "type": "integer"
        },
        {
         "name": "review_id",
         "rawType": "int64",
         "type": "integer"
        },
        {
         "name": "pii_flag",
         "rawType": "bool",
         "type": "boolean"
        },
        {
         "name": "rating_flag",
         "rawType": "bool",
         "type": "boolean"
        },
        {
         "name": "non_alphabetical_flag",
         "rawType": "bool",
         "type": "boolean"
        }
       ],
       "ref": "d4d1769d-bc6d-4705-9d4f-a6282b5795bd",
       "rows": [
        [
         "0",
         "101",
         "True",
         "True",
         "True"
        ],
        [
         "1",
         "102",
         "True",
         "False",
         "False"
        ],
        [
         "2",
         "103",
         "False",
         "False",
         "False"
        ]
       ],
       "shape": {
        "columns": 4,
        "rows": 3
       }
      },
      "text/html": [
       "<div>\n",
       "<style scoped>\n",
       "    .dataframe tbody tr th:only-of-type {\n",
       "        vertical-align: middle;\n",
       "    }\n",
       "\n",
       "    .dataframe tbody tr th {\n",
       "        vertical-align: top;\n",
       "    }\n",
       "\n",
       "    .dataframe thead th {\n",
       "        text-align: right;\n",
       "    }\n",
       "</style>\n",
       "<table border=\"1\" class=\"dataframe\">\n",
       "  <thead>\n",
       "    <tr style=\"text-align: right;\">\n",
       "      <th></th>\n",
       "      <th>review_id</th>\n",
       "      <th>pii_flag</th>\n",
       "      <th>rating_flag</th>\n",
       "      <th>non_alphabetical_flag</th>\n",
       "    </tr>\n",
       "  </thead>\n",
       "  <tbody>\n",
       "    <tr>\n",
       "      <th>0</th>\n",
       "      <td>101</td>\n",
       "      <td>True</td>\n",
       "      <td>True</td>\n",
       "      <td>True</td>\n",
       "    </tr>\n",
       "    <tr>\n",
       "      <th>1</th>\n",
       "      <td>102</td>\n",
       "      <td>True</td>\n",
       "      <td>False</td>\n",
       "      <td>False</td>\n",
       "    </tr>\n",
       "    <tr>\n",
       "      <th>2</th>\n",
       "      <td>103</td>\n",
       "      <td>False</td>\n",
       "      <td>False</td>\n",
       "      <td>False</td>\n",
       "    </tr>\n",
       "  </tbody>\n",
       "</table>\n",
       "</div>"
      ],
      "text/plain": [
       "   review_id  pii_flag  rating_flag  non_alphabetical_flag\n",
       "0        101      True         True                   True\n",
       "1        102      True        False                  False\n",
       "2        103     False        False                  False"
      ]
     },
     "metadata": {},
     "output_type": "display_data"
    },
    {
     "data": {
      "application/vnd.microsoft.datawrangler.viewer.v0+json": {
       "columns": [
        {
         "name": "index",
         "rawType": "int64",
         "type": "integer"
        },
        {
         "name": "review_id",
         "rawType": "int64",
         "type": "integer"
        },
        {
         "name": "stats",
         "rawType": "object",
         "type": "unknown"
        }
       ],
       "ref": "bcfc48ab-fa50-40f4-95df-62b43254cce5",
       "rows": [
        [
         "0",
         "101",
         "{'length': 46, 'word_count': 6, 'stopwords': 0, 'punctuations': 6, 'symbols': 0, 'emojis': 1, 'noise_count': 2, 'urls': [], 'html_tags': [], 'emails': ['user@example.com'], 'phones': [], 'phones_normalized': [], 'emoji_list': ['⭐']}"
        ],
        [
         "1",
         "102",
         "{'length': 50, 'word_count': 4, 'stopwords': 1, 'punctuations': 4, 'symbols': 12, 'emojis': 0, 'noise_count': 1, 'urls': [], 'html_tags': [], 'emails': [], 'phones': ['0812-3456-7890'], 'phones_normalized': ['081234567890'], 'emoji_list': []}"
        ],
        [
         "2",
         "103",
         "{'length': 61, 'word_count': 10, 'stopwords': 1, 'punctuations': 4, 'symbols': 5, 'emojis': 0, 'noise_count': 0, 'urls': [], 'html_tags': [], 'emails': [], 'phones': [], 'phones_normalized': [], 'emoji_list': []}"
        ]
       ],
       "shape": {
        "columns": 2,
        "rows": 3
       }
      },
      "text/html": [
       "<div>\n",
       "<style scoped>\n",
       "    .dataframe tbody tr th:only-of-type {\n",
       "        vertical-align: middle;\n",
       "    }\n",
       "\n",
       "    .dataframe tbody tr th {\n",
       "        vertical-align: top;\n",
       "    }\n",
       "\n",
       "    .dataframe thead th {\n",
       "        text-align: right;\n",
       "    }\n",
       "</style>\n",
       "<table border=\"1\" class=\"dataframe\">\n",
       "  <thead>\n",
       "    <tr style=\"text-align: right;\">\n",
       "      <th></th>\n",
       "      <th>review_id</th>\n",
       "      <th>stats</th>\n",
       "    </tr>\n",
       "  </thead>\n",
       "  <tbody>\n",
       "    <tr>\n",
       "      <th>0</th>\n",
       "      <td>101</td>\n",
       "      <td>{'length': 46, 'word_count': 6, 'stopwords': 0...</td>\n",
       "    </tr>\n",
       "    <tr>\n",
       "      <th>1</th>\n",
       "      <td>102</td>\n",
       "      <td>{'length': 50, 'word_count': 4, 'stopwords': 1...</td>\n",
       "    </tr>\n",
       "    <tr>\n",
       "      <th>2</th>\n",
       "      <td>103</td>\n",
       "      <td>{'length': 61, 'word_count': 10, 'stopwords': ...</td>\n",
       "    </tr>\n",
       "  </tbody>\n",
       "</table>\n",
       "</div>"
      ],
      "text/plain": [
       "   review_id                                              stats\n",
       "0        101  {'length': 46, 'word_count': 6, 'stopwords': 0...\n",
       "1        102  {'length': 50, 'word_count': 4, 'stopwords': 1...\n",
       "2        103  {'length': 61, 'word_count': 10, 'stopwords': ..."
      ]
     },
     "metadata": {},
     "output_type": "display_data"
    },
    {
     "data": {
      "application/vnd.microsoft.datawrangler.viewer.v0+json": {
       "columns": [
        {
         "name": "index",
         "rawType": "int64",
         "type": "integer"
        },
        {
         "name": "review_id",
         "rawType": "int64",
         "type": "integer"
        },
        {
         "name": "detect_noise",
         "rawType": "object",
         "type": "unknown"
        }
       ],
       "ref": "b457d820-7976-4149-b3fb-4168a07c58f0",
       "rows": [
        [
         "0",
         "101",
         "{'urls': [], 'html_tags': [], 'emails': ['user@example.com'], 'phones': [], 'emojis': ['⭐']}"
        ],
        [
         "1",
         "102",
         "{'urls': [], 'html_tags': [], 'emails': [], 'phones': ['0812-3456-7890'], 'emojis': []}"
        ],
        [
         "2",
         "103",
         "{'urls': [], 'html_tags': [], 'emails': [], 'phones': [], 'emojis': []}"
        ]
       ],
       "shape": {
        "columns": 2,
        "rows": 3
       }
      },
      "text/html": [
       "<div>\n",
       "<style scoped>\n",
       "    .dataframe tbody tr th:only-of-type {\n",
       "        vertical-align: middle;\n",
       "    }\n",
       "\n",
       "    .dataframe tbody tr th {\n",
       "        vertical-align: top;\n",
       "    }\n",
       "\n",
       "    .dataframe thead th {\n",
       "        text-align: right;\n",
       "    }\n",
       "</style>\n",
       "<table border=\"1\" class=\"dataframe\">\n",
       "  <thead>\n",
       "    <tr style=\"text-align: right;\">\n",
       "      <th></th>\n",
       "      <th>review_id</th>\n",
       "      <th>detect_noise</th>\n",
       "    </tr>\n",
       "  </thead>\n",
       "  <tbody>\n",
       "    <tr>\n",
       "      <th>0</th>\n",
       "      <td>101</td>\n",
       "      <td>{'urls': [], 'html_tags': [], 'emails': ['user...</td>\n",
       "    </tr>\n",
       "    <tr>\n",
       "      <th>1</th>\n",
       "      <td>102</td>\n",
       "      <td>{'urls': [], 'html_tags': [], 'emails': [], 'p...</td>\n",
       "    </tr>\n",
       "    <tr>\n",
       "      <th>2</th>\n",
       "      <td>103</td>\n",
       "      <td>{'urls': [], 'html_tags': [], 'emails': [], 'p...</td>\n",
       "    </tr>\n",
       "  </tbody>\n",
       "</table>\n",
       "</div>"
      ],
      "text/plain": [
       "   review_id                                       detect_noise\n",
       "0        101  {'urls': [], 'html_tags': [], 'emails': ['user...\n",
       "1        102  {'urls': [], 'html_tags': [], 'emails': [], 'p...\n",
       "2        103  {'urls': [], 'html_tags': [], 'emails': [], 'p..."
      ]
     },
     "metadata": {},
     "output_type": "display_data"
    },
    {
     "data": {
      "text/plain": [
       "{'original_text': 'Barang mantul!!! Email: user@example.com ⭐⭐⭐⭐⭐',\n",
       " 'rating': 5,\n",
       " 'pii_flag': True,\n",
       " 'non_alphabetical_flag': True}"
      ]
     },
     "execution_count": 3,
     "metadata": {},
     "output_type": "execute_result"
    }
   ],
   "source": [
    "# Sample dataset mirroring Indonesian marketplace reviews\n",
    "raw_reviews = pd.DataFrame(\n",
    "    {\n",
    "        \"review_id\": [101, 102, 103],\n",
    "        \"channel\": [\"Tokopedia\", \"Shopee\", \"WhatsApp\"],\n",
    "        \"text\": [\n",
    "            \"Barang mantul!!! Email: user@example.com ⭐⭐⭐⭐⭐\",\n",
    "            \"Pengiriman lambat :( Hubungi 0812-3456-7890 segera\",\n",
    "            \"Halo admin, alamat saya Jl. Melati No. 8 RT 02 RW 04, Bandung\",\n",
    "        ],\n",
    "    }\n",
    ")\n",
    "\n",
    "cartboard_flags = get_flags(raw_reviews, text_column=\"text\")\n",
    "cartboard_stats = get_stats(raw_reviews, text_column=\"text\")\n",
    "cartboard_noise = noise_detect(raw_reviews, text_column=\"text\", include_normalized=False)\n",
    "\n",
    "display(cartboard_flags[[\"review_id\", \"pii_flag\", \"rating_flag\", \"non_alphabetical_flag\"]])\n",
    "display(cartboard_stats[[\"review_id\", \"stats\"]])\n",
    "display(cartboard_noise[[\"review_id\", \"detect_noise\"]])\n",
    "\n",
    "single_card = CartBoard(raw_text=raw_reviews.loc[0, \"text\"], rating=5)\n",
    "single_card.to_dict()"
   ]
  },
  {
   "cell_type": "markdown",
   "id": "5406e9ba",
   "metadata": {},
   "source": [
    "## 2. Exercising cleaning primitives as standalone helpers"
   ]
  },
  {
   "cell_type": "code",
   "execution_count": 4,
   "id": "cbac08a6",
   "metadata": {},
   "outputs": [
    {
     "name": "stdout",
     "output_type": "stream",
     "text": [
      "Original: <p>MANTUULLL banget! Promo di https://shop.id, email cs@shop.id 😍😍</p>\n",
      "Cleaned: mantuulll banget promo URL email csURL suka banget suka banget\n"
     ]
    }
   ],
   "source": [
    "sample_text = \"<p>MANTUULLL banget! Promo di https://shop.id, email cs@shop.id 😍😍</p>\"\n",
    "\n",
    "step_html = remove_tags(sample_text)\n",
    "step_case = case_normal(step_html)\n",
    "step_url = replace_url(step_case, mode=\"replace\")\n",
    "step_emoji = remove_emoji(step_url, mode=\"replace\")\n",
    "step_stopwords = remove_stopwords(step_emoji)\n",
    "step_punct = remove_punctuation(step_stopwords)\n",
    "step_whitespace = remove_whitespace(step_punct)\n",
    "\n",
    "print(\"Original:\", sample_text)\n",
    "print(\"Cleaned:\", step_whitespace)"
   ]
  },
  {
   "cell_type": "markdown",
   "id": "bbb652b7",
   "metadata": {},
   "source": [
    "## 3. Validating PII masking helpers"
   ]
  },
  {
   "cell_type": "code",
   "execution_count": 5,
   "id": "76b7b44e",
   "metadata": {},
   "outputs": [
    {
     "name": "stdout",
     "output_type": "stream",
     "text": [
      "Hubungi saya di [PHONE_NUMBER] atau email [EMAIL]. Alamat: [ADDRESS]. NIK [NIK]\n"
     ]
    }
   ],
   "source": [
    "pii_sample = (\"Hubungi saya di 0812 9876 5432 atau email rani+vip@contoh.co.id. \"\n",
    "             \"Alamat: Jl. Kenanga No. 5 RT 03 RW 09, Jakarta. NIK 3276120705010003 \")\n",
    "\n",
    "masked = replace_id(pii_sample, mode='replace')\n",
    "masked = replace_phone(masked, mode=\"replace\")\n",
    "masked = replace_email(masked, mode=\"replace\")\n",
    "masked = replace_address(masked, mode=\"replace\")\n",
    "\n",
    "print(masked)"
   ]
  },
  {
   "cell_type": "markdown",
   "id": "aab5c76e",
   "metadata": {},
   "source": [
    "## 4. Review normalisation workflow"
   ]
  },
  {
   "cell_type": "code",
   "execution_count": 6,
   "id": "b87a30e1",
   "metadata": {},
   "outputs": [
    {
     "name": "stdout",
     "output_type": "stream",
     "text": [
      "Original: Mantuuul ⭐⭐⭐⭐⭐ abis, cs nya grg bgt tp overall 4/5 kok!\n",
      "Normalised: mantuul 5 0 abis cs nya grg bgt tapi overall 4 0 kok\n"
     ]
    }
   ],
   "source": [
    "review_text = \"Mantuuul ⭐⭐⭐⭐⭐ abis, cs nya grg bgt tp overall 4/5 kok!\"\n",
    "\n",
    "normalized = replace_rating(review_text)\n",
    "normalized = shorten_elongation(normalized, max_repeat=2)\n",
    "normalized = normalize_slangs(normalized, mode=\"replace\")\n",
    "normalized = replace_acronym(normalized, mode=\"replace\")\n",
    "normalized = expand_contraction(normalized)\n",
    "normalized = word_normalization(normalized, method=\"stem\", mode=\"keep\")\n",
    "\n",
    "print(\"Original:\", review_text)\n",
    "print(\"Normalised:\", normalized)"
   ]
  },
  {
   "cell_type": "markdown",
   "id": "efda1c0e",
   "metadata": {},
   "source": [
    "## 5. Running preset and custom pipelines with benchmarking"
   ]
  },
  {
   "cell_type": "code",
   "execution_count": 7,
   "id": "f8244cf0",
   "metadata": {},
   "outputs": [
    {
     "data": {
      "application/vnd.microsoft.datawrangler.viewer.v0+json": {
       "columns": [
        {
         "name": "index",
         "rawType": "int64",
         "type": "integer"
        },
        {
         "name": "preset_output",
         "rawType": "object",
         "type": "string"
        },
        {
         "name": "custom_output",
         "rawType": "object",
         "type": "string"
        }
       ],
       "ref": "3390064f-57fa-45e0-909d-e0084413ece8",
       "rows": [
        [
         "0",
         "email [EMAIL] rating 5.0 kurir ramah",
         "email [EMAIL] rating . kurir ramah"
        ],
        [
         "1",
         "alamat kirim [ADDRESS]",
         "alamat pengiriman jl durian no rt rw bandung"
        ]
       ],
       "shape": {
        "columns": 2,
        "rows": 2
       }
      },
      "text/html": [
       "<div>\n",
       "<style scoped>\n",
       "    .dataframe tbody tr th:only-of-type {\n",
       "        vertical-align: middle;\n",
       "    }\n",
       "\n",
       "    .dataframe tbody tr th {\n",
       "        vertical-align: top;\n",
       "    }\n",
       "\n",
       "    .dataframe thead th {\n",
       "        text-align: right;\n",
       "    }\n",
       "</style>\n",
       "<table border=\"1\" class=\"dataframe\">\n",
       "  <thead>\n",
       "    <tr style=\"text-align: right;\">\n",
       "      <th></th>\n",
       "      <th>preset_output</th>\n",
       "      <th>custom_output</th>\n",
       "    </tr>\n",
       "  </thead>\n",
       "  <tbody>\n",
       "    <tr>\n",
       "      <th>0</th>\n",
       "      <td>email [EMAIL] rating 5.0 kurir ramah</td>\n",
       "      <td>email [EMAIL] rating . kurir ramah</td>\n",
       "    </tr>\n",
       "    <tr>\n",
       "      <th>1</th>\n",
       "      <td>alamat kirim [ADDRESS]</td>\n",
       "      <td>alamat pengiriman jl durian no rt rw bandung</td>\n",
       "    </tr>\n",
       "  </tbody>\n",
       "</table>\n",
       "</div>"
      ],
      "text/plain": [
       "                          preset_output  \\\n",
       "0  email [EMAIL] rating 5.0 kurir ramah   \n",
       "1                alamat kirim [ADDRESS]   \n",
       "\n",
       "                                  custom_output  \n",
       "0            email [EMAIL] rating . kurir ramah  \n",
       "1  alamat pengiriman jl durian no rt rw bandung  "
      ]
     },
     "metadata": {},
     "output_type": "display_data"
    },
    {
     "name": "stdout",
     "output_type": "stream",
     "text": [
      "Preset timings: {'n_steps': 20, 'total_time_sec': 0.11879610001778929, 'per_step': [('word_normalization', 0.11786989999382058), ('unmask_whitelist', 0.00015629999688826501), ('mask_whitelist', 0.0001427000024705194), ('replace_acronym', 0.00012000001152046025), ('replace_rating', 9.770000178832561e-05), ('replace_address', 9.570000838721171e-05), ('normalize_slangs', 7.089999417075887e-05), ('remove_stopwords', 4.959999932907522e-05), ('expand_contraction', 3.699999797390774e-05), ('remove_emoji', 3.2199997804127634e-05), ('remove_punctuation', 2.8200003725942224e-05), ('replace_id', 1.889999839477241e-05), ('shorten_elongation', 1.649999467190355e-05), ('replace_url', 1.6199999663513154e-05), ('replace_phone', 1.290000363951549e-05), ('remove_whitespace', 9.499999578110874e-06), ('replace_email', 9.49999230215326e-06), ('remove_tags', 5.900001269765198e-06), ('unmask_rating_tokens', 3.500012098811567e-06), ('case_normal', 3.000008291564882e-06)]}\n",
      "Custom timings: {'n_steps': 11, 'total_time_sec': 0.00023150000924943015, 'per_step': [('wrapped', 0.00010699999984353781), ('remove_stopwords', 3.240000660298392e-05), ('mask_whitelist', 2.4300010409206152e-05), ('unmask_whitelist', 1.6800004232209176e-05), ('remove_punctuation', 1.4099998224992305e-05), ('replace_phone', 1.2999989849049598e-05), ('replace_email', 8.39999847812578e-06), ('remove_whitespace', 6.499998562503606e-06), ('remove_digits', 5.700007022824138e-06), ('case_normal', 1.9999934011138976e-06), ('unmask_rating_tokens', 1.3000026228837669e-06)]}\n"
     ]
    }
   ],
   "source": [
    "reviews = pd.Series([\n",
    "    \"Email saya customer@mart.id, rating 5/5, kurir ramah.\",\n",
    "    \"Alamat pengiriman: Jl. Durian No. 3 RT 05 RW 07, Bandung.\",\n",
    "])\n",
    "\n",
    "preset_results, preset_metrics = leksara(reviews, preset=\"ecommerce_review\", benchmark=True)\n",
    "\n",
    "custom_pipeline = {\n",
    "    \"patterns\": [\n",
    "        (replace_phone, {\"mode\": \"replace\"}),\n",
    "        (replace_email, {\"mode\": \"replace\"}),\n",
    "    ],\n",
    "    \"functions\": [\n",
    "        case_normal,\n",
    "        replace_rating,\n",
    "        remove_digits,\n",
    "        remove_stopwords,\n",
    "        remove_punctuation,\n",
    "        remove_whitespace,\n",
    "    ],\n",
    "}\n",
    "\n",
    "chain = ReviewChain.from_steps(**custom_pipeline)\n",
    "chain_results, chain_metrics = chain.transform(reviews, benchmark=True)\n",
    "\n",
    "display(pd.DataFrame({\n",
    "    \"preset_output\": preset_results,\n",
    "    \"custom_output\": chain_results,\n",
    "}))\n",
    "\n",
    "print(\"Preset timings:\", preset_metrics)\n",
    "print(\"Custom timings:\", chain_metrics)"
   ]
  },
  {
   "cell_type": "code",
   "execution_count": 8,
   "id": "1ccb1485",
   "metadata": {},
   "outputs": [
    {
     "name": "stdout",
     "output_type": "stream",
     "text": [
      "   review_id                                     clean_text\n",
      "0        101  barang mantap email [EMAIL] wa [PHONE_NUMBER]\n",
      "1        102   kualitas 4.0 kirim 4.0 hubung [PHONE_NUMBER]\n"
     ]
    }
   ],
   "source": [
    "import pandas as pd\n",
    "from leksara import leksara\n",
    "\n",
    "df = pd.DataFrame(\n",
    "    {\n",
    "        \"review_id\": [101, 102],\n",
    "        \"review_text\": [\n",
    "            \"<p>Barangnya mantul!!! Email saya user@mail.id, WA 0812-3456-7890</p>\",\n",
    "            \"Kualitasnya ⭐⭐⭐⭐, pengiriman 4/5. Hubungi +62 812 8888 7777\",\n",
    "        ],\n",
    "    }\n",
    "  )\n",
    "\n",
    "df[\"clean_text\"] = leksara(df[\"review_text\"], preset=\"ecommerce_review\")\n",
    "print(df[[\"review_id\", \"clean_text\"]])"
   ]
  },
  {
   "cell_type": "markdown",
   "id": "d2db2833",
   "metadata": {},
   "source": [
    "## 6. Listing and customising presets"
   ]
  },
  {
   "cell_type": "code",
   "execution_count": 9,
   "id": "dcbdac45",
   "metadata": {},
   "outputs": [
    {
     "name": "stdout",
     "output_type": "stream",
     "text": [
      "Patterns: [(<function replace_id at 0x0000026E73DCB6A0>, {'mode': 'replace'}), (<function replace_phone at 0x0000026E73DCB420>, {'mode': 'replace'}), (<function replace_email at 0x0000026E73DCB600>, {'mode': 'replace'}), (<function replace_address at 0x0000026E73DCB560>, {'mode': 'replace'})]\n",
      "Functions: [<function remove_tags at 0x0000026E73DCBA60>, <function case_normal at 0x0000026E73DCBB00>, (<function replace_url at 0x0000026E73DCBE20>, {'mode': 'remove'}), (<function remove_emoji at 0x0000026E73DCBEC0>, {'mode': 'replace'}), <function replace_rating at 0x0000026E73DCA7A0>, <function expand_contraction at 0x0000026E73DCADE0>, (<function normalize_slangs at 0x0000026E73DCACA0>, {'mode': 'replace'}), (<function replace_acronym at 0x0000026E73DCAC00>, {'mode': 'replace'}), <function word_normalization at 0x0000026E73DCAFC0>, <function remove_stopwords at 0x0000026E73DCBBA0>, <function shorten_elongation at 0x0000026E73DCAB60>, <function remove_punctuation at 0x0000026E73DCBD80>, <function remove_whitespace at 0x0000026E73DCBC40>]\n"
     ]
    },
    {
     "data": {
      "application/vnd.microsoft.datawrangler.viewer.v0+json": {
       "columns": [
        {
         "name": "index",
         "rawType": "int64",
         "type": "integer"
        },
        {
         "name": "0",
         "rawType": "object",
         "type": "string"
        }
       ],
       "ref": "cd0914c8-6c03-4e40-a419-760a708cac69",
       "rows": [
        [
         "0",
         "email [EMAIL] rating 5.0 kurir ramah"
        ],
        [
         "1",
         "alamat kirim [ADDRESS]"
        ]
       ],
       "shape": {
        "columns": 1,
        "rows": 2
       }
      },
      "text/plain": [
       "0    email [EMAIL] rating 5.0 kurir ramah\n",
       "1                  alamat kirim [ADDRESS]\n",
       "dtype: object"
      ]
     },
     "execution_count": 9,
     "metadata": {},
     "output_type": "execute_result"
    }
   ],
   "source": [
    "ecommerce_preset = get_preset(\"ecommerce_review\")\n",
    "print(\"Patterns:\", ecommerce_preset[\"patterns\"])\n",
    "print(\"Functions:\", ecommerce_preset[\"functions\"])\n",
    "\n",
    "# Extend preset with additional address masking depth\n",
    "extended = get_preset(\"ecommerce_review\")\n",
    "extended[\"patterns\"].append((replace_address, {\"mode\": \"replace\", \"street\": True, \"city\": True}))\n",
    "extended_results = leksara(reviews, pipeline=extended)\n",
    "extended_results"
   ]
  },
  {
   "cell_type": "markdown",
   "id": "e42c3ef5",
   "metadata": {},
   "source": [
    "## 7. Runtime dictionary tweaks for experimentation"
   ]
  },
  {
   "cell_type": "code",
   "execution_count": 10,
   "id": "468a93e4",
   "metadata": {},
   "outputs": [
    {
     "name": "stdout",
     "output_type": "stream",
     "text": [
      "tingkah msh bingung sama proses garansi\n"
     ]
    }
   ],
   "source": [
    "print(normalize_slangs(\"sokap msh bingung sama proses garansi\"))"
   ]
  }
 ],
 "metadata": {
  "kernelspec": {
   "display_name": "Python 3",
   "language": "python",
   "name": "python3"
  },
  "language_info": {
   "codemirror_mode": {
    "name": "ipython",
    "version": 3
   },
   "file_extension": ".py",
   "mimetype": "text/x-python",
   "name": "python",
   "nbconvert_exporter": "python",
   "pygments_lexer": "ipython3",
   "version": "3.11.13"
  }
 },
 "nbformat": 4,
 "nbformat_minor": 5
}
